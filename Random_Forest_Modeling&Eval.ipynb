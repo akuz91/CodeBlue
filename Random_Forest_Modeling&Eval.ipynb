{
 "cells": [
  {
   "cell_type": "code",
   "execution_count": 1,
   "metadata": {},
   "outputs": [],
   "source": [
    "import pandas as pd\n",
    "import numpy as np\n",
    "import matplotlib.pyplot as plt\n",
    "%matplotlib inline\n",
    "\n",
    "import os\n",
    "\n",
    "from sklearn.model_selection import cross_validate\n",
    "from sklearn.model_selection import train_test_split\n",
    "import matplotlib.pyplot as plt\n",
    "from sklearn.metrics import accuracy_score\n",
    "\n",
    "import warnings\n",
    "warnings.filterwarnings('ignore')"
   ]
  },
  {
   "cell_type": "code",
   "execution_count": 2,
   "metadata": {},
   "outputs": [],
   "source": [
    "directory = os.getcwd()\n",
    "\n",
    "OG = pd.read_csv(directory + '/input_data.csv', sep=',')"
   ]
  },
  {
   "cell_type": "code",
   "execution_count": 3,
   "metadata": {},
   "outputs": [
    {
     "data": {
      "text/plain": [
       "Index(['INITIAL_SEVERITY_LEVEL_CODE', 'DISPATCH_RESPONSE_SECONDS_QY',\n",
       "       'INCIDENT_RESPONSE_SECONDS_QY', 'INCIDENT_TRAVEL_TM_SECONDS_QY',\n",
       "       'HELD_INDICATOR', 'T0', 'T1', 'T3', 'T4', 'T5',\n",
       "       ...\n",
       "       'Month_3', 'Month_4', 'Month_5', 'Month_6', 'Month_7', 'Month_8',\n",
       "       'Month_9', 'Month_10', 'Month_11', 'Month_12'],\n",
       "      dtype='object', length=604)"
      ]
     },
     "execution_count": 3,
     "metadata": {},
     "output_type": "execute_result"
    }
   ],
   "source": [
    "OG.columns"
   ]
  },
  {
   "cell_type": "code",
   "execution_count": 4,
   "metadata": {},
   "outputs": [],
   "source": [
    "data_wrk = OG.copy()\n"
   ]
  },
  {
   "cell_type": "markdown",
   "metadata": {},
   "source": [
    "# Random Forest Classifier\n",
    "\n",
    "Inherintly multi-class, but not all funtions work for it."
   ]
  },
  {
   "cell_type": "code",
   "execution_count": 5,
   "metadata": {},
   "outputs": [],
   "source": [
    "from sklearn.ensemble import RandomForestClassifier"
   ]
  },
  {
   "cell_type": "code",
   "execution_count": 6,
   "metadata": {},
   "outputs": [],
   "source": [
    "from sklearn.model_selection import cross_val_score\n",
    "from sklearn.metrics import classification_report, confusion_matrix"
   ]
  },
  {
   "cell_type": "code",
   "execution_count": 7,
   "metadata": {},
   "outputs": [],
   "source": [
    "from sklearn.metrics import roc_curve, auc"
   ]
  },
  {
   "cell_type": "markdown",
   "metadata": {},
   "source": [
    "## 50,000 samples"
   ]
  },
  {
   "cell_type": "code",
   "execution_count": 82,
   "metadata": {},
   "outputs": [
    {
     "name": "stdout",
     "output_type": "stream",
     "text": [
      "Accuracy: 5 0.91072\n",
      "Accuracy: 12 0.75048\n",
      "Accuracy: 25 0.48808\n",
      "Accuracy: 41 0.31272\n"
     ]
    }
   ],
   "source": [
    "np.random.seed(2019)\n",
    "\n",
    "for i in [5,12,25,41]:\n",
    "    max = 1025\n",
    "    bin_width = max/i\n",
    "    bins = np.arange(0,max+bin_width,bin_width)\n",
    "    labels = list(range(1,i+1))\n",
    "\n",
    "    data_wrk = OG.copy()\n",
    "    data_wrk = data_wrk.drop(['DISPATCH_RESPONSE_SECONDS_QY'],1)\n",
    "    data_wrk['INCIDENT_TRAVEL_TM_SECONDS_QY_Bin'] = pd.cut(data_wrk['INCIDENT_TRAVEL_TM_SECONDS_QY'],bins,labels=labels)\n",
    "    data = data_wrk.drop(columns = ['INCIDENT_TRAVEL_TM_SECONDS_QY'])\n",
    "\n",
    "    X = data.drop(columns = [\"INCIDENT_TRAVEL_TM_SECONDS_QY_Bin\"])\n",
    "    Y = data[\"INCIDENT_TRAVEL_TM_SECONDS_QY_Bin\"]\n",
    "\n",
    "    X_train, X_test, Y_train, Y_test = train_test_split(X, Y, train_size=.75)\n",
    "    \n",
    "    rf_def = RandomForestClassifier(criterion='entropy', n_estimators=100)\n",
    "    rf_def = rf_def.fit(X_train, Y_train)\n",
    "    rf_pred = rf_def.predict(X_test)\n",
    "    print(\"Accuracy:\", i, str(rf_def.score(X_test, Y_test)))"
   ]
  },
  {
   "cell_type": "markdown",
   "metadata": {},
   "source": [
    "# 25,000 samples"
   ]
  },
  {
   "cell_type": "code",
   "execution_count": 83,
   "metadata": {},
   "outputs": [
    {
     "name": "stdout",
     "output_type": "stream",
     "text": [
      "Accuracy: 5 0.8872\n",
      "Accuracy: 12 0.71488\n",
      "Accuracy: 25 0.46304\n",
      "Accuracy: 41 0.2824\n"
     ]
    }
   ],
   "source": [
    "np.random.seed(2019)\n",
    "\n",
    "for i in [5,12,25,41]:\n",
    "    max = 1025\n",
    "    bin_width = max/i\n",
    "    bins = np.arange(0,max+bin_width,bin_width)\n",
    "    labels = list(range(1,i+1))\n",
    "\n",
    "    data_wrk = OG.sample(n = 25000)\n",
    "    data_wrk = data_wrk.drop(['DISPATCH_RESPONSE_SECONDS_QY'],1)\n",
    "    data_wrk['INCIDENT_TRAVEL_TM_SECONDS_QY_Bin'] = pd.cut(data_wrk['INCIDENT_TRAVEL_TM_SECONDS_QY'],bins,labels=labels)\n",
    "    data = data_wrk.drop(columns = ['INCIDENT_TRAVEL_TM_SECONDS_QY'])\n",
    "\n",
    "    X = data.drop(columns = [\"INCIDENT_TRAVEL_TM_SECONDS_QY_Bin\"])\n",
    "    Y = data[\"INCIDENT_TRAVEL_TM_SECONDS_QY_Bin\"]\n",
    "\n",
    "    X_train, X_test, Y_train, Y_test = train_test_split(X, Y, train_size=.75)\n",
    "    \n",
    "    rf_def = RandomForestClassifier(criterion='entropy', n_estimators=100)\n",
    "    rf_def = rf_def.fit(X_train, Y_train)\n",
    "    rf_pred = rf_def.predict(X_test)\n",
    "    print(\"Accuracy:\", i, str(rf_def.score(X_test, Y_test)))"
   ]
  },
  {
   "cell_type": "markdown",
   "metadata": {},
   "source": [
    "# 10,000 samples"
   ]
  },
  {
   "cell_type": "code",
   "execution_count": 84,
   "metadata": {},
   "outputs": [
    {
     "name": "stdout",
     "output_type": "stream",
     "text": [
      "Accuracy: 5 0.8624\n",
      "Accuracy: 12 0.6876\n",
      "Accuracy: 25 0.3756\n",
      "Accuracy: 41 0.2096\n"
     ]
    }
   ],
   "source": [
    "np.random.seed(2019)\n",
    "\n",
    "for i in [5,12,25,41]:\n",
    "    max = 1025\n",
    "    bin_width = max/i\n",
    "    bins = np.arange(0,max+bin_width,bin_width)\n",
    "    labels = list(range(1,i+1))\n",
    "\n",
    "    data_wrk = OG.sample(n = 10000)\n",
    "    data_wrk = data_wrk.drop(['DISPATCH_RESPONSE_SECONDS_QY'],1)\n",
    "    data_wrk['INCIDENT_TRAVEL_TM_SECONDS_QY_Bin'] = pd.cut(data_wrk['INCIDENT_TRAVEL_TM_SECONDS_QY'],bins,labels=labels)\n",
    "    data = data_wrk.drop(columns = ['INCIDENT_TRAVEL_TM_SECONDS_QY'])\n",
    "\n",
    "    X = data.drop(columns = [\"INCIDENT_TRAVEL_TM_SECONDS_QY_Bin\"])\n",
    "    Y = data[\"INCIDENT_TRAVEL_TM_SECONDS_QY_Bin\"]\n",
    "\n",
    "    X_train, X_test, Y_train, Y_test = train_test_split(X, Y, train_size=.75)\n",
    "    \n",
    "    rf_def = RandomForestClassifier(criterion='entropy', n_estimators=100)\n",
    "    rf_def = rf_def.fit(X_train, Y_train)\n",
    "    rf_pred = rf_def.predict(X_test)\n",
    "    print(\"Accuracy:\", i, str(rf_def.score(X_test, Y_test)))"
   ]
  },
  {
   "cell_type": "markdown",
   "metadata": {},
   "source": [
    "# 5,000 samples"
   ]
  },
  {
   "cell_type": "code",
   "execution_count": 85,
   "metadata": {},
   "outputs": [
    {
     "name": "stdout",
     "output_type": "stream",
     "text": [
      "Accuracy: 5 0.8384\n",
      "Accuracy: 12 0.6352\n",
      "Accuracy: 25 0.3872\n",
      "Accuracy: 41 0.1792\n"
     ]
    }
   ],
   "source": [
    "np.random.seed(2019)\n",
    "\n",
    "for i in [5,12,25,41]:\n",
    "    max = 1025\n",
    "    bin_width = max/i\n",
    "    bins = np.arange(0,max+bin_width,bin_width)\n",
    "    labels = list(range(1,i+1))\n",
    "\n",
    "    data_wrk = OG.sample(n = 5000)\n",
    "    data_wrk = data_wrk.drop(['DISPATCH_RESPONSE_SECONDS_QY'],1)\n",
    "    data_wrk['INCIDENT_TRAVEL_TM_SECONDS_QY_Bin'] = pd.cut(data_wrk['INCIDENT_TRAVEL_TM_SECONDS_QY'],bins,labels=labels)\n",
    "    data = data_wrk.drop(columns = ['INCIDENT_TRAVEL_TM_SECONDS_QY'])\n",
    "\n",
    "    X = data.drop(columns = [\"INCIDENT_TRAVEL_TM_SECONDS_QY_Bin\"])\n",
    "    Y = data[\"INCIDENT_TRAVEL_TM_SECONDS_QY_Bin\"]\n",
    "\n",
    "    X_train, X_test, Y_train, Y_test = train_test_split(X, Y, train_size=.75)\n",
    "    \n",
    "    rf_def = RandomForestClassifier(criterion='entropy', n_estimators=100)\n",
    "    rf_def = rf_def.fit(X_train, Y_train)\n",
    "    rf_pred = rf_def.predict(X_test)\n",
    "    print(\"Accuracy:\", i, str(rf_def.score(X_test, Y_test)))"
   ]
  },
  {
   "cell_type": "markdown",
   "metadata": {},
   "source": [
    "# 1,000 Samples"
   ]
  },
  {
   "cell_type": "code",
   "execution_count": 86,
   "metadata": {},
   "outputs": [
    {
     "name": "stdout",
     "output_type": "stream",
     "text": [
      "Accuracy: 5 0.7\n",
      "Accuracy: 12 0.52\n",
      "Accuracy: 25 0.24\n",
      "Accuracy: 41 0.104\n"
     ]
    }
   ],
   "source": [
    "np.random.seed(2019)\n",
    "\n",
    "for i in [5,12,25,41]:\n",
    "    max = 1025\n",
    "    bin_width = max/i\n",
    "    bins = np.arange(0,max+bin_width,bin_width)\n",
    "    labels = list(range(1,i+1))\n",
    "\n",
    "    data_wrk = OG.sample(n = 1000)\n",
    "    data_wrk = data_wrk.drop(['DISPATCH_RESPONSE_SECONDS_QY'],1)\n",
    "    data_wrk['INCIDENT_TRAVEL_TM_SECONDS_QY_Bin'] = pd.cut(data_wrk['INCIDENT_TRAVEL_TM_SECONDS_QY'],bins,labels=labels)\n",
    "    data = data_wrk.drop(columns = ['INCIDENT_TRAVEL_TM_SECONDS_QY'])\n",
    "\n",
    "    X = data.drop(columns = [\"INCIDENT_TRAVEL_TM_SECONDS_QY_Bin\"])\n",
    "    Y = data[\"INCIDENT_TRAVEL_TM_SECONDS_QY_Bin\"]\n",
    "\n",
    "    X_train, X_test, Y_train, Y_test = train_test_split(X, Y, train_size=.75)\n",
    "    \n",
    "    rf_def = RandomForestClassifier(criterion='entropy', n_estimators=100)\n",
    "    rf_def = rf_def.fit(X_train, Y_train)\n",
    "    rf_pred = rf_def.predict(X_test)\n",
    "    print(\"Accuracy:\", i, str(rf_def.score(X_test, Y_test)))"
   ]
  },
  {
   "cell_type": "code",
   "execution_count": 87,
   "metadata": {},
   "outputs": [],
   "source": [
    "RF5 = [.7,.8384, .8624, .8872, .91072]\n",
    "RF12 = [.52, .6352, .6876, .71488, .75048]\n",
    "RF25 = [.24, .3872, .3756, .46304, .48808]\n",
    "RF41 = [.104, .1792, .2096, .2824, .31272]"
   ]
  },
  {
   "cell_type": "code",
   "execution_count": 96,
   "metadata": {},
   "outputs": [],
   "source": [
    "frames = [RF5, RF12, RF25, RF41]\n",
    "\n",
    "summary_df = pd.DataFrame(frames, index = ['RF5', 'RF12', 'RF25', 'RF41'], columns=['1k', '5k', '10k', '25k', '50k'])"
   ]
  },
  {
   "cell_type": "code",
   "execution_count": 101,
   "metadata": {},
   "outputs": [
    {
     "data": {
      "text/plain": [
       "<matplotlib.axes._subplots.AxesSubplot at 0x1a1f7cdc50>"
      ]
     },
     "execution_count": 101,
     "metadata": {},
     "output_type": "execute_result"
    },
    {
     "data": {
      "image/png": "[encoded data removed]",
      "text/plain": [
       "<Figure size 432x288 with 1 Axes>"
      ]
     },
     "metadata": {},
     "output_type": "display_data"
    }
   ],
   "source": [
    "summary_df.transpose().plot()"
   ]
  },
  {
   "cell_type": "markdown",
   "metadata": {},
   "source": [
    "## Hyper Parameter Tuning"
   ]
  },
  {
   "cell_type": "code",
   "execution_count": 102,
   "metadata": {},
   "outputs": [],
   "source": [
    "i = 5\n",
    "max = 1025\n",
    "bin_width = max/i\n",
    "bins = np.arange(0,max+bin_width,bin_width)\n",
    "labels = list(range(1,i+1))\n",
    "\n",
    "data_wrk = OG.copy()\n",
    "data_wrk = data_wrk.drop(['DISPATCH_RESPONSE_SECONDS_QY'],1)\n",
    "data_wrk['INCIDENT_TRAVEL_TM_SECONDS_QY_Bin'] = pd.cut(data_wrk['INCIDENT_TRAVEL_TM_SECONDS_QY'],bins,labels=labels)\n",
    "data = data_wrk.drop(columns = ['INCIDENT_TRAVEL_TM_SECONDS_QY'])\n",
    "\n",
    "X = data.drop(columns = [\"INCIDENT_TRAVEL_TM_SECONDS_QY_Bin\"])\n",
    "Y = data[\"INCIDENT_TRAVEL_TM_SECONDS_QY_Bin\"]\n",
    "\n",
    "X_train, X_test, Y_train, Y_test = train_test_split(X, Y, train_size=.75)\n",
    "    "
   ]
  },
  {
   "cell_type": "code",
   "execution_count": 110,
   "metadata": {},
   "outputs": [
    {
     "name": "stdout",
     "output_type": "stream",
     "text": [
      "Original parameters: \n",
      "\n"
     ]
    },
    {
     "data": {
      "text/plain": [
       "RandomForestClassifier(bootstrap=True, class_weight=None, criterion='entropy',\n",
       "            max_depth=None, max_features='auto', max_leaf_nodes=None,\n",
       "            min_impurity_decrease=0.0, min_impurity_split=None,\n",
       "            min_samples_leaf=1, min_samples_split=2,\n",
       "            min_weight_fraction_leaf=0.0, n_estimators=100, n_jobs=1,\n",
       "            oob_score=False, random_state=None, verbose=0,\n",
       "            warm_start=False)"
      ]
     },
     "execution_count": 110,
     "metadata": {},
     "output_type": "execute_result"
    }
   ],
   "source": [
    "rf_def = RandomForestClassifier(criterion='entropy', n_estimators=100)\n",
    "print(\"Original parameters: \\n\")\n",
    "rf_def"
   ]
  },
  {
   "cell_type": "code",
   "execution_count": 105,
   "metadata": {},
   "outputs": [],
   "source": [
    "depths = [80, 90, 100, 110]\n",
    "leaves = [3, 36, 102, 201, 334, 500, 700, 933, 1200, 1500]\n",
    "#Run all of the options\n",
    "run=1\n",
    "if (run == 1):\n",
    "    #Initialize dictionary of results\n",
    "    res = dict()\n",
    "    for d in depths:\n",
    "        res[d] = list()\n",
    "\n",
    "    #Now train and get results for each option\n",
    "    for d in depths:\n",
    "        for l in leaves:\n",
    "            rf_def = RandomForestClassifier(criterion='entropy', n_estimators=100, \n",
    "                                            min_samples_leaf = l, max_depth = d)\n",
    "            rf_def = rf_def.fit(X_train, Y_train)\n",
    "            rf_pred = rf_def.predict(X_test)\n",
    "            res[d].append(rf_def.score(X_test, Y_test))\n"
   ]
  },
  {
   "cell_type": "code",
   "execution_count": 111,
   "metadata": {},
   "outputs": [
    {
     "data": {
      "text/plain": [
       "{80: [0.90344,\n",
       "  0.7516,\n",
       "  0.71192,\n",
       "  0.70144,\n",
       "  0.6916,\n",
       "  0.64656,\n",
       "  0.55576,\n",
       "  0.45928,\n",
       "  0.4664,\n",
       "  0.43744],\n",
       " 90: [0.89176,\n",
       "  0.75864,\n",
       "  0.70208,\n",
       "  0.69648,\n",
       "  0.69896,\n",
       "  0.684,\n",
       "  0.54232,\n",
       "  0.53248,\n",
       "  0.43896,\n",
       "  0.43744],\n",
       " 100: [0.89864,\n",
       "  0.78504,\n",
       "  0.70168,\n",
       "  0.69768,\n",
       "  0.69936,\n",
       "  0.69688,\n",
       "  0.61712,\n",
       "  0.48256,\n",
       "  0.43744,\n",
       "  0.43744],\n",
       " 110: [0.91544,\n",
       "  0.79688,\n",
       "  0.71376,\n",
       "  0.70072,\n",
       "  0.70072,\n",
       "  0.66496,\n",
       "  0.60096,\n",
       "  0.54856,\n",
       "  0.43744,\n",
       "  0.43744]}"
      ]
     },
     "execution_count": 111,
     "metadata": {},
     "output_type": "execute_result"
    }
   ],
   "source": [
    "res"
   ]
  },
  {
   "cell_type": "code",
   "execution_count": 113,
   "metadata": {},
   "outputs": [
    {
     "data": {
      "text/plain": [
       "Text(0.5,1,'Holdout Accuracy by Hyperparameters')"
      ]
     },
     "execution_count": 113,
     "metadata": {},
     "output_type": "execute_result"
    },
    {
     "data": {
      "image/png": "[encoded data removed]",
      "text/plain": [
       "<Figure size 576x360 with 1 Axes>"
      ]
     },
     "metadata": {},
     "output_type": "display_data"
    }
   ],
   "source": [
    "plt.rcParams['figure.figsize'] = 8,5\n",
    "#Now plot            \n",
    "fig = plt.figure()\n",
    "ax=fig.add_subplot(111)\n",
    "\n",
    "plt.plot(leaves,res[depths[0]], 'b-', label = 'Depth={}'.format(depths[0]))\n",
    "plt.plot(leaves,res[depths[1]], 'r-', label = 'Depth={}'.format(depths[1]))\n",
    "plt.plot(leaves,res[depths[2]], 'y-', label = 'Depth={}'.format(depths[2]))\n",
    "plt.plot(leaves,res[depths[3]], 'g-', label = 'Depth={}'.format(depths[3]))\n",
    "plt.legend(loc = 4)\n",
    "ax.set_xlabel('Min Leaf Size')\n",
    "ax.set_ylabel('Model Score')\n",
    "plt.title('Holdout Accuracy by Hyperparameters')"
   ]
  },
  {
   "cell_type": "markdown",
   "metadata": {},
   "source": [
    "the accuracy was getting worse and worse with optimization because the big depth was causing over fittin g\n",
    "also for most depths we overfit when the leaves get too small\n",
    "\n",
    "The default value for max_depth is None, which means that each tree will expand until every leaf is pure. A pure leaf is one where all of the data on the leaf comes from the same class.\n"
   ]
  },
  {
   "cell_type": "markdown",
   "metadata": {},
   "source": [
    "#### Ilana code"
   ]
  },
  {
   "cell_type": "code",
   "execution_count": 30,
   "metadata": {},
   "outputs": [],
   "source": [
    "num_bins = [5, 12, 25, 41]\n",
    "samplesize = [1000, 5000, 10000, 25000, 50000]\n",
    "\n",
    "for n in num_bins:\n",
    "    \n",
    "    max = 1025\n",
    "    bin_width = max/n\n",
    "\n",
    "    bins = np.linspace(0,max,n+1)\n",
    "    labels = list(range(1,n+1))\n",
    "    \n",
    "    data = OG.drop(columns = 'DISPATCH_RESPONSE_SECONDS_QY')\n",
    "    data['INCIDENT_TRAVEL_TM_SECONDS_QY_Bin'] = pd.cut(data['INCIDENT_TRAVEL_TM_SECONDS_QY'],bins,labels=labels)\n",
    "    data = data.drop(columns = ['INCIDENT_TRAVEL_TM_SECONDS_QY'])\n",
    "    \n",
    "    ##REPLACE STRING DEFINING MODEL BELOW##\n",
    "    row_label = 'RF' + str(n)\n",
    "\n",
    "    for s in samplesize:\n",
    "    \n",
    "        data_sampled = data.sample(n = s)\n",
    "        \n",
    "        X = data_sampled.drop(columns = [\"INCIDENT_TRAVEL_TM_SECONDS_QY_Bin\"])\n",
    "        Y = data_sampled[\"INCIDENT_TRAVEL_TM_SECONDS_QY_Bin\"]\n",
    "\n",
    "        X_train, X_test, Y_train, Y_test = train_test_split(X, Y, train_size=.75)\n",
    "        \n",
    "        ## REPLACE MODEL below ##\n",
    "       \n",
    "        rf = RandomForestClassifier(criterion='entropy', n_estimators=100)\n",
    "        rf.fit(X_train, Y_train)\n",
    "        \n",
    "        score = rf.score(X_test,Y_test)\n",
    "                \n",
    "        ## REPLACE MODEL above ##\n",
    "        \n",
    "        summary_dict[row_label].append(score)"
   ]
  },
  {
   "cell_type": "code",
   "execution_count": 31,
   "metadata": {},
   "outputs": [
    {
     "data": {
      "text/plain": [
       "{'RF12': [0.46, 0.6104, 0.6644, 0.7192, 0.75984],\n",
       " 'RF25': [0.276, 0.3768, 0.3728, 0.46352, 0.50152],\n",
       " 'RF41': [0.164, 0.2088, 0.1976, 0.268, 0.28888],\n",
       " 'RF5': [0.7, 0.8464, 0.8856, 0.89632, 0.89952]}"
      ]
     },
     "execution_count": 31,
     "metadata": {},
     "output_type": "execute_result"
    }
   ],
   "source": [
    "summary_dict"
   ]
  }
 ],
 "metadata": {
  "kernelspec": {
   "display_name": "Python 3",
   "language": "python",
   "name": "python3"
  },
  "language_info": {
   "codemirror_mode": {
    "name": "ipython",
    "version": 3
   },
   "file_extension": ".py",
   "mimetype": "text/x-python",
   "name": "python",
   "nbconvert_exporter": "python",
   "pygments_lexer": "ipython3",
   "version": "3.6.4"
  }
 },
 "nbformat": 4,
 "nbformat_minor": 2
}
