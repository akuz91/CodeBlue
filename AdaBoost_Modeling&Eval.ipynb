{
 "cells": [
  {
   "cell_type": "code",
   "execution_count": 1,
   "metadata": {},
   "outputs": [],
   "source": [
    "import pandas as pd\n",
    "import numpy as np\n",
    "import matplotlib.pyplot as plt\n",
    "%matplotlib inline\n",
    "\n",
    "import os\n",
    "\n",
    "from sklearn.model_selection import cross_validate\n",
    "from sklearn.model_selection import train_test_split\n",
    "import matplotlib.pyplot as plt\n",
    "from sklearn.metrics import accuracy_score\n",
    "\n",
    "import warnings\n",
    "warnings.filterwarnings('ignore')"
   ]
  },
  {
   "cell_type": "code",
   "execution_count": 2,
   "metadata": {},
   "outputs": [],
   "source": [
    "directory = os.getcwd()\n",
    "\n",
    "OG = pd.read_csv(directory + '/input_data.csv', sep=',')"
   ]
  },
  {
   "cell_type": "code",
   "execution_count": 3,
   "metadata": {},
   "outputs": [
    {
     "data": {
      "text/plain": [
       "Index(['INITIAL_SEVERITY_LEVEL_CODE', 'DISPATCH_RESPONSE_SECONDS_QY',\n",
       "       'INCIDENT_RESPONSE_SECONDS_QY', 'INCIDENT_TRAVEL_TM_SECONDS_QY',\n",
       "       'HELD_INDICATOR', 'T0', 'T1', 'T3', 'T4', 'T5',\n",
       "       ...\n",
       "       'Month_3', 'Month_4', 'Month_5', 'Month_6', 'Month_7', 'Month_8',\n",
       "       'Month_9', 'Month_10', 'Month_11', 'Month_12'],\n",
       "      dtype='object', length=604)"
      ]
     },
     "execution_count": 3,
     "metadata": {},
     "output_type": "execute_result"
    }
   ],
   "source": [
    "OG.columns"
   ]
  },
  {
   "cell_type": "code",
   "execution_count": 4,
   "metadata": {},
   "outputs": [],
   "source": [
    "data_wrk = OG.copy()\n"
   ]
  },
  {
   "cell_type": "code",
   "execution_count": 71,
   "metadata": {},
   "outputs": [
    {
     "data": {
      "text/plain": [
       "85.41666666666667"
      ]
     },
     "execution_count": 71,
     "metadata": {},
     "output_type": "execute_result"
    }
   ],
   "source": [
    "#bins; change n to change num of bins\n",
    "n = 12 \n",
    "max = 1025\n",
    "bin_width = max/n #+1 because we have n bins so n+1 endpoints\n",
    "bin_width"
   ]
  },
  {
   "cell_type": "code",
   "execution_count": 72,
   "metadata": {},
   "outputs": [
    {
     "data": {
      "text/plain": [
       "array([   0.        ,   85.41666667,  170.83333333,  256.25      ,\n",
       "        341.66666667,  427.08333333,  512.5       ,  597.91666667,\n",
       "        683.33333333,  768.75      ,  854.16666667,  939.58333333,\n",
       "       1025.        ])"
      ]
     },
     "execution_count": 72,
     "metadata": {},
     "output_type": "execute_result"
    }
   ],
   "source": [
    "#bin ranges\n",
    "bins = np.arange(0,max+bin_width,bin_width)\n",
    "bins"
   ]
  },
  {
   "cell_type": "code",
   "execution_count": 73,
   "metadata": {},
   "outputs": [
    {
     "data": {
      "text/plain": [
       "[1, 2, 3, 4, 5, 6, 7, 8, 9, 10, 11, 12]"
      ]
     },
     "execution_count": 73,
     "metadata": {},
     "output_type": "execute_result"
    }
   ],
   "source": [
    "#labels for bin ranges\n",
    "labels = list(range(1,n+1))\n",
    "labels"
   ]
  },
  {
   "cell_type": "code",
   "execution_count": 13,
   "metadata": {},
   "outputs": [
    {
     "data": {
      "text/html": [
       "<div>\n",
       "<style scoped>\n",
       "    .dataframe tbody tr th:only-of-type {\n",
       "        vertical-align: middle;\n",
       "    }\n",
       "\n",
       "    .dataframe tbody tr th {\n",
       "        vertical-align: top;\n",
       "    }\n",
       "\n",
       "    .dataframe thead th {\n",
       "        text-align: right;\n",
       "    }\n",
       "</style>\n",
       "<table border=\"1\" class=\"dataframe\">\n",
       "  <thead>\n",
       "    <tr style=\"text-align: right;\">\n",
       "      <th></th>\n",
       "      <th>0</th>\n",
       "      <th>start</th>\n",
       "      <th>end</th>\n",
       "    </tr>\n",
       "  </thead>\n",
       "  <tbody>\n",
       "    <tr>\n",
       "      <td>0</td>\n",
       "      <td>1</td>\n",
       "      <td>0.0</td>\n",
       "      <td>205.0</td>\n",
       "    </tr>\n",
       "    <tr>\n",
       "      <td>1</td>\n",
       "      <td>2</td>\n",
       "      <td>205.0</td>\n",
       "      <td>410.0</td>\n",
       "    </tr>\n",
       "    <tr>\n",
       "      <td>2</td>\n",
       "      <td>3</td>\n",
       "      <td>410.0</td>\n",
       "      <td>615.0</td>\n",
       "    </tr>\n",
       "    <tr>\n",
       "      <td>3</td>\n",
       "      <td>4</td>\n",
       "      <td>615.0</td>\n",
       "      <td>820.0</td>\n",
       "    </tr>\n",
       "    <tr>\n",
       "      <td>4</td>\n",
       "      <td>5</td>\n",
       "      <td>820.0</td>\n",
       "      <td>1025.0</td>\n",
       "    </tr>\n",
       "  </tbody>\n",
       "</table>\n",
       "</div>"
      ],
      "text/plain": [
       "   0  start     end\n",
       "0  1    0.0   205.0\n",
       "1  2  205.0   410.0\n",
       "2  3  410.0   615.0\n",
       "3  4  615.0   820.0\n",
       "4  5  820.0  1025.0"
      ]
     },
     "execution_count": 13,
     "metadata": {},
     "output_type": "execute_result"
    }
   ],
   "source": [
    "#df to visualize bins\n",
    "df = pd.DataFrame(data = labels)\n",
    "df['start'] = bins[:bins.shape[0]-1]\n",
    "df['end'] = bins[1:]\n",
    "df"
   ]
  },
  {
   "cell_type": "code",
   "execution_count": 74,
   "metadata": {},
   "outputs": [
    {
     "data": {
      "text/html": [
       "<div>\n",
       "<style scoped>\n",
       "    .dataframe tbody tr th:only-of-type {\n",
       "        vertical-align: middle;\n",
       "    }\n",
       "\n",
       "    .dataframe tbody tr th {\n",
       "        vertical-align: top;\n",
       "    }\n",
       "\n",
       "    .dataframe thead th {\n",
       "        text-align: right;\n",
       "    }\n",
       "</style>\n",
       "<table border=\"1\" class=\"dataframe\">\n",
       "  <thead>\n",
       "    <tr style=\"text-align: right;\">\n",
       "      <th></th>\n",
       "      <th>INITIAL_SEVERITY_LEVEL_CODE</th>\n",
       "      <th>INCIDENT_RESPONSE_SECONDS_QY</th>\n",
       "      <th>HELD_INDICATOR</th>\n",
       "      <th>T0</th>\n",
       "      <th>T1</th>\n",
       "      <th>T3</th>\n",
       "      <th>T4</th>\n",
       "      <th>T5</th>\n",
       "      <th>T6</th>\n",
       "      <th>T7</th>\n",
       "      <th>...</th>\n",
       "      <th>Month_4</th>\n",
       "      <th>Month_5</th>\n",
       "      <th>Month_6</th>\n",
       "      <th>Month_7</th>\n",
       "      <th>Month_8</th>\n",
       "      <th>Month_9</th>\n",
       "      <th>Month_10</th>\n",
       "      <th>Month_11</th>\n",
       "      <th>Month_12</th>\n",
       "      <th>INCIDENT_TRAVEL_TM_SECONDS_QY_Bin</th>\n",
       "    </tr>\n",
       "  </thead>\n",
       "  <tbody>\n",
       "    <tr>\n",
       "      <td>0</td>\n",
       "      <td>5</td>\n",
       "      <td>740.0</td>\n",
       "      <td>0</td>\n",
       "      <td>0</td>\n",
       "      <td>0</td>\n",
       "      <td>0</td>\n",
       "      <td>0</td>\n",
       "      <td>0</td>\n",
       "      <td>0</td>\n",
       "      <td>0</td>\n",
       "      <td>...</td>\n",
       "      <td>0</td>\n",
       "      <td>0</td>\n",
       "      <td>0</td>\n",
       "      <td>1</td>\n",
       "      <td>0</td>\n",
       "      <td>0</td>\n",
       "      <td>0</td>\n",
       "      <td>0</td>\n",
       "      <td>0</td>\n",
       "      <td>9</td>\n",
       "    </tr>\n",
       "    <tr>\n",
       "      <td>1</td>\n",
       "      <td>2</td>\n",
       "      <td>409.0</td>\n",
       "      <td>0</td>\n",
       "      <td>0</td>\n",
       "      <td>0</td>\n",
       "      <td>0</td>\n",
       "      <td>0</td>\n",
       "      <td>0</td>\n",
       "      <td>0</td>\n",
       "      <td>0</td>\n",
       "      <td>...</td>\n",
       "      <td>0</td>\n",
       "      <td>0</td>\n",
       "      <td>0</td>\n",
       "      <td>0</td>\n",
       "      <td>0</td>\n",
       "      <td>0</td>\n",
       "      <td>1</td>\n",
       "      <td>0</td>\n",
       "      <td>0</td>\n",
       "      <td>5</td>\n",
       "    </tr>\n",
       "    <tr>\n",
       "      <td>2</td>\n",
       "      <td>5</td>\n",
       "      <td>596.0</td>\n",
       "      <td>0</td>\n",
       "      <td>0</td>\n",
       "      <td>0</td>\n",
       "      <td>0</td>\n",
       "      <td>0</td>\n",
       "      <td>0</td>\n",
       "      <td>0</td>\n",
       "      <td>0</td>\n",
       "      <td>...</td>\n",
       "      <td>0</td>\n",
       "      <td>0</td>\n",
       "      <td>0</td>\n",
       "      <td>0</td>\n",
       "      <td>1</td>\n",
       "      <td>0</td>\n",
       "      <td>0</td>\n",
       "      <td>0</td>\n",
       "      <td>0</td>\n",
       "      <td>7</td>\n",
       "    </tr>\n",
       "    <tr>\n",
       "      <td>3</td>\n",
       "      <td>1</td>\n",
       "      <td>501.0</td>\n",
       "      <td>0</td>\n",
       "      <td>0</td>\n",
       "      <td>0</td>\n",
       "      <td>0</td>\n",
       "      <td>1</td>\n",
       "      <td>0</td>\n",
       "      <td>0</td>\n",
       "      <td>0</td>\n",
       "      <td>...</td>\n",
       "      <td>0</td>\n",
       "      <td>0</td>\n",
       "      <td>0</td>\n",
       "      <td>0</td>\n",
       "      <td>0</td>\n",
       "      <td>0</td>\n",
       "      <td>0</td>\n",
       "      <td>0</td>\n",
       "      <td>1</td>\n",
       "      <td>6</td>\n",
       "    </tr>\n",
       "    <tr>\n",
       "      <td>4</td>\n",
       "      <td>3</td>\n",
       "      <td>264.0</td>\n",
       "      <td>0</td>\n",
       "      <td>0</td>\n",
       "      <td>0</td>\n",
       "      <td>0</td>\n",
       "      <td>1</td>\n",
       "      <td>0</td>\n",
       "      <td>0</td>\n",
       "      <td>0</td>\n",
       "      <td>...</td>\n",
       "      <td>0</td>\n",
       "      <td>0</td>\n",
       "      <td>0</td>\n",
       "      <td>0</td>\n",
       "      <td>0</td>\n",
       "      <td>0</td>\n",
       "      <td>1</td>\n",
       "      <td>0</td>\n",
       "      <td>0</td>\n",
       "      <td>3</td>\n",
       "    </tr>\n",
       "  </tbody>\n",
       "</table>\n",
       "<p>5 rows × 603 columns</p>\n",
       "</div>"
      ],
      "text/plain": [
       "   INITIAL_SEVERITY_LEVEL_CODE  INCIDENT_RESPONSE_SECONDS_QY  HELD_INDICATOR  \\\n",
       "0                            5                         740.0               0   \n",
       "1                            2                         409.0               0   \n",
       "2                            5                         596.0               0   \n",
       "3                            1                         501.0               0   \n",
       "4                            3                         264.0               0   \n",
       "\n",
       "   T0  T1  T3  T4  T5  T6  T7  ...  Month_4  Month_5  Month_6  Month_7  \\\n",
       "0   0   0   0   0   0   0   0  ...        0        0        0        1   \n",
       "1   0   0   0   0   0   0   0  ...        0        0        0        0   \n",
       "2   0   0   0   0   0   0   0  ...        0        0        0        0   \n",
       "3   0   0   0   1   0   0   0  ...        0        0        0        0   \n",
       "4   0   0   0   1   0   0   0  ...        0        0        0        0   \n",
       "\n",
       "   Month_8  Month_9  Month_10  Month_11  Month_12  \\\n",
       "0        0        0         0         0         0   \n",
       "1        0        0         1         0         0   \n",
       "2        1        0         0         0         0   \n",
       "3        0        0         0         0         1   \n",
       "4        0        0         1         0         0   \n",
       "\n",
       "   INCIDENT_TRAVEL_TM_SECONDS_QY_Bin  \n",
       "0                                  9  \n",
       "1                                  5  \n",
       "2                                  7  \n",
       "3                                  6  \n",
       "4                                  3  \n",
       "\n",
       "[5 rows x 603 columns]"
      ]
     },
     "execution_count": 74,
     "metadata": {},
     "output_type": "execute_result"
    }
   ],
   "source": [
    "#coding continuous data based on bins/labels, removing continuous data cols\n",
    "data_wrk['INCIDENT_TRAVEL_TM_SECONDS_QY_Bin'] = pd.cut(data_wrk['INCIDENT_TRAVEL_TM_SECONDS_QY'],bins,labels=labels)\n",
    "data = data_wrk.drop(columns = ['INCIDENT_TRAVEL_TM_SECONDS_QY'])\n",
    "data.head()"
   ]
  },
  {
   "cell_type": "code",
   "execution_count": 75,
   "metadata": {},
   "outputs": [],
   "source": [
    "#X is predictors, Y is value to be predicted\n",
    "X = data.drop(columns = [\"INCIDENT_TRAVEL_TM_SECONDS_QY_Bin\"])\n",
    "Y = data[\"INCIDENT_TRAVEL_TM_SECONDS_QY_Bin\"]"
   ]
  },
  {
   "cell_type": "code",
   "execution_count": 76,
   "metadata": {},
   "outputs": [],
   "source": [
    "X_train, X_test, Y_train, Y_test = train_test_split(X, Y, train_size=.75)"
   ]
  },
  {
   "cell_type": "markdown",
   "metadata": {},
   "source": [
    "# AdaBoost Classifier\n",
    "\n",
    "An AdaBoost [1] classifier is a meta-estimator that begins by fitting a classifier on the original dataset and then fits additional copies of the classifier on the same dataset but where the weights of incorrectly classified instances are adjusted such that subsequent classifiers focus more on difficult cases.\n",
    "\n",
    "AdaBoost uses Decision Tree Classifier as default Classifier.\n",
    "\n",
    "base_estimator: It is a weak learner used to train the model. It uses DecisionTreeClassifier as default weak learner for training purpose. You can also specify different machine learning algorithms.\n",
    "\n",
    "n_estimators: Number of weak learners to train iteratively.\n",
    "\n",
    "learning_rate: It contributes to the weights of weak learners. It uses 1 as a default value.\n",
    "\n",
    "It iteratively corrects the mistakes of the weak classifier and improves accuracy by combining weak learners. You can use many base classifiers with AdaBoost. AdaBoost is not prone to overfitting.\n",
    "\n",
    "AdaBoost is sensitive to noise data. It is highly affected by outliers because it tries to fit each point perfectly. \n",
    "\n",
    "AdaBoost is similar to Random Forest in that they both tally up the predictions made by each decision trees within the forest to decide on the final classification. There are however, some subtle differences. For instance, in AdaBoost, the decision trees have a depth of 1 (i.e. 2 leaves). In addition, the predictions made by each decision tree have varying impact on the final prediction made by the model."
   ]
  },
  {
   "cell_type": "code",
   "execution_count": 6,
   "metadata": {},
   "outputs": [],
   "source": [
    "from sklearn.ensemble import AdaBoostClassifier"
   ]
  },
  {
   "cell_type": "code",
   "execution_count": 5,
   "metadata": {},
   "outputs": [],
   "source": [
    "from sklearn.metrics import accuracy_score\n",
    "from sklearn.tree import DecisionTreeClassifier"
   ]
  },
  {
   "cell_type": "code",
   "execution_count": 7,
   "metadata": {},
   "outputs": [],
   "source": [
    "from sklearn.model_selection import cross_val_score\n",
    "from sklearn.metrics import classification_report, confusion_matrix"
   ]
  },
  {
   "cell_type": "code",
   "execution_count": 77,
   "metadata": {},
   "outputs": [],
   "source": [
    "bdt_real = AdaBoostClassifier(\n",
    "    DecisionTreeClassifier(max_depth=2),\n",
    "    n_estimators=1100,\n",
    "    learning_rate=1)"
   ]
  },
  {
   "cell_type": "code",
   "execution_count": 9,
   "metadata": {},
   "outputs": [],
   "source": [
    "# bdt_discrete = AdaBoostClassifier(\n",
    "#     DecisionTreeClassifier(max_depth=2),\n",
    "#     n_estimators=600,\n",
    "#     learning_rate=1.5,\n",
    "#     algorithm=\"SAMME\")"
   ]
  },
  {
   "cell_type": "code",
   "execution_count": 78,
   "metadata": {},
   "outputs": [
    {
     "data": {
      "text/plain": [
       "AdaBoostClassifier(algorithm='SAMME.R',\n",
       "          base_estimator=DecisionTreeClassifier(class_weight=None, criterion='gini', max_depth=2,\n",
       "            max_features=None, max_leaf_nodes=None,\n",
       "            min_impurity_decrease=0.0, min_impurity_split=None,\n",
       "            min_samples_leaf=1, min_samples_split=2,\n",
       "            min_weight_fraction_leaf=0.0, presort=False, random_state=None,\n",
       "            splitter='best'),\n",
       "          learning_rate=1, n_estimators=1100, random_state=None)"
      ]
     },
     "execution_count": 78,
     "metadata": {},
     "output_type": "execute_result"
    }
   ],
   "source": [
    "bdt_real.fit(X_train, Y_train)\n",
    "# bdt_discrete.fit(X_train, Y_train)"
   ]
  },
  {
   "cell_type": "code",
   "execution_count": 83,
   "metadata": {},
   "outputs": [
    {
     "name": "stdout",
     "output_type": "stream",
     "text": [
      "\n",
      "\n",
      "Accuracy: 0.81224\n"
     ]
    }
   ],
   "source": [
    "print('\\n')\n",
    "print(\"Accuracy:\", str(bdt_real.score(X_test, Y_test)))"
   ]
  },
  {
   "cell_type": "code",
   "execution_count": 22,
   "metadata": {},
   "outputs": [
    {
     "name": "stdout",
     "output_type": "stream",
     "text": [
      "BDT REAL\n",
      "=== Confusion Matrix ===\n",
      "[[1018  409    0    0    0]\n",
      " [   2 5387   45    0    0]\n",
      " [   0   20 3637    4    0]\n",
      " [   0    0   60 1387    3]\n",
      " [   0    0    0   40  488]]\n",
      "\n",
      "\n",
      "=== Classification Report ===\n",
      "             precision    recall  f1-score   support\n",
      "\n",
      "          1       1.00      0.71      0.83      1427\n",
      "          2       0.93      0.99      0.96      5434\n",
      "          3       0.97      0.99      0.98      3661\n",
      "          4       0.97      0.96      0.96      1450\n",
      "          5       0.99      0.92      0.96       528\n",
      "\n",
      "avg / total       0.96      0.95      0.95     12500\n",
      "\n",
      "\n",
      "\n",
      "Accuracy: 0.95336\n"
     ]
    }
   ],
   "source": [
    "print(\"BDT REAL\")\n",
    "rf_pred = bdt_real.predict(X_test)\n",
    "print(\"=== Confusion Matrix ===\")\n",
    "print(confusion_matrix(Y_test, rf_pred))\n",
    "print('\\n')\n",
    "print(\"=== Classification Report ===\")\n",
    "print(classification_report(Y_test, rf_pred))\n",
    "print('\\n')\n",
    "print(\"Accuracy:\", str(bdt_real.score(X_test, Y_test)))"
   ]
  },
  {
   "cell_type": "code",
   "execution_count": 23,
   "metadata": {},
   "outputs": [
    {
     "name": "stdout",
     "output_type": "stream",
     "text": [
      "BDT DISCRETE\n",
      "=== Confusion Matrix ===\n",
      "[[1266  161    0    0    0]\n",
      " [  12 5415    7    0    0]\n",
      " [   0  411 3149  101    0]\n",
      " [   0    0    0 1417   33]\n",
      " [   0    0    0    6  522]]\n",
      "\n",
      "\n",
      "=== Classification Report ===\n",
      "             precision    recall  f1-score   support\n",
      "\n",
      "          1       0.99      0.89      0.94      1427\n",
      "          2       0.90      1.00      0.95      5434\n",
      "          3       1.00      0.86      0.92      3661\n",
      "          4       0.93      0.98      0.95      1450\n",
      "          5       0.94      0.99      0.96       528\n",
      "\n",
      "avg / total       0.95      0.94      0.94     12500\n",
      "\n",
      "\n",
      "\n",
      "Accuracy: 0.94152\n"
     ]
    }
   ],
   "source": [
    "print(\"BDT DISCRETE\")\n",
    "rf_pred = bdt_discrete.predict(X_test)\n",
    "print(\"=== Confusion Matrix ===\")\n",
    "print(confusion_matrix(Y_test, rf_pred))\n",
    "print('\\n')\n",
    "print(\"=== Classification Report ===\")\n",
    "print(classification_report(Y_test, rf_pred))\n",
    "print('\\n')\n",
    "print(\"Accuracy:\", str(bdt_discrete.score(X_test, Y_test)))"
   ]
  },
  {
   "cell_type": "code",
   "execution_count": 25,
   "metadata": {},
   "outputs": [
    {
     "data": {
      "text/plain": [
       "AdaBoostClassifier(algorithm='SAMME.R',\n",
       "          base_estimator=DecisionTreeClassifier(class_weight=None, criterion='gini', max_depth=1,\n",
       "            max_features=None, max_leaf_nodes=None,\n",
       "            min_impurity_decrease=0.0, min_impurity_split=None,\n",
       "            min_samples_leaf=1, min_samples_split=2,\n",
       "            min_weight_fraction_leaf=0.0, presort=False, random_state=None,\n",
       "            splitter='best'),\n",
       "          learning_rate=1.0, n_estimators=200, random_state=None)"
      ]
     },
     "execution_count": 25,
     "metadata": {},
     "output_type": "execute_result"
    }
   ],
   "source": [
    "classifier = AdaBoostClassifier(\n",
    "    DecisionTreeClassifier(max_depth=1),\n",
    "    n_estimators=200\n",
    ")\n",
    "classifier.fit(X_train, Y_train)"
   ]
  },
  {
   "cell_type": "code",
   "execution_count": 26,
   "metadata": {},
   "outputs": [],
   "source": [
    "predictions = classifier.predict(X_test)"
   ]
  },
  {
   "cell_type": "code",
   "execution_count": 27,
   "metadata": {},
   "outputs": [
    {
     "name": "stdout",
     "output_type": "stream",
     "text": [
      "Cassifier\n",
      "=== Confusion Matrix ===\n",
      "[[   0 1427    0    0    0]\n",
      " [   0 5225  209    0    0]\n",
      " [   0   74 3473  114    0]\n",
      " [   0    0    8 1369   73]\n",
      " [   0    0    0    2  526]]\n",
      "\n",
      "\n",
      "=== Classification Report ===\n",
      "             precision    recall  f1-score   support\n",
      "\n",
      "          1       0.00      0.00      0.00      1427\n",
      "          2       0.78      0.96      0.86      5434\n",
      "          3       0.94      0.95      0.94      3661\n",
      "          4       0.92      0.94      0.93      1450\n",
      "          5       0.88      1.00      0.93       528\n",
      "\n",
      "avg / total       0.76      0.85      0.80     12500\n",
      "\n",
      "\n",
      "\n",
      "Accuracy: 0.84744\n"
     ]
    }
   ],
   "source": [
    "print(\"Cassifier\")\n",
    "rf_pred = predictions\n",
    "print(\"=== Confusion Matrix ===\")\n",
    "print(confusion_matrix(Y_test, rf_pred))\n",
    "print('\\n')\n",
    "print(\"=== Classification Report ===\")\n",
    "print(classification_report(Y_test, rf_pred))\n",
    "print('\\n')\n",
    "print(\"Accuracy:\", str(classifier.score(X_test, Y_test)))"
   ]
  },
  {
   "cell_type": "code",
   "execution_count": null,
   "metadata": {},
   "outputs": [],
   "source": [
    "ada_discrete_err = np.zeros((n_estimators,))\n",
    "for i, y_pred in enumerate(ada_discrete.staged_predict(X_test)):\n",
    "    ada_discrete_err[i] = zero_one_loss(y_pred, y_test)\n",
    "\n",
    "ada_discrete_err_train = np.zeros((n_estimators,))\n",
    "for i, y_pred in enumerate(ada_discrete.staged_predict(X_train)):\n",
    "    ada_discrete_err_train[i] = zero_one_loss(y_pred, y_train)\n",
    "\n",
    "ada_real_err = np.zeros((n_estimators,))\n",
    "for i, y_pred in enumerate(ada_real.staged_predict(X_test)):\n",
    "    ada_real_err[i] = zero_one_loss(y_pred, y_test)\n",
    "\n",
    "ada_real_err_train = np.zeros((n_estimators,))\n",
    "for i, y_pred in enumerate(ada_real.staged_predict(X_train)):\n",
    "    ada_real_err_train[i] = zero_one_loss(y_pred, y_train)"
   ]
  },
  {
   "cell_type": "markdown",
   "metadata": {},
   "source": [
    "## Hyper Parameter Tuning"
   ]
  },
  {
   "cell_type": "code",
   "execution_count": 30,
   "metadata": {},
   "outputs": [],
   "source": [
    "res = dict()\n",
    "for d in n_est:\n",
    "    res[d] = list()\n",
    "\n"
   ]
  },
  {
   "cell_type": "code",
   "execution_count": 36,
   "metadata": {},
   "outputs": [
    {
     "data": {
      "text/plain": [
       "{300: [0.93664],\n",
       " 400: [0.93816],\n",
       " 500: [0.96056],\n",
       " 600: [0.95272],\n",
       " 700: [],\n",
       " 800: []}"
      ]
     },
     "execution_count": 36,
     "metadata": {},
     "output_type": "execute_result"
    }
   ],
   "source": [
    "res"
   ]
  },
  {
   "cell_type": "code",
   "execution_count": 32,
   "metadata": {},
   "outputs": [],
   "source": [
    "bdt_real = AdaBoostClassifier(\n",
    "    DecisionTreeClassifier(max_depth=2),\n",
    "    n_estimators=300,\n",
    "    learning_rate=1)\n",
    "bdt_real.fit(X_train, Y_train)\n",
    "rf_pred = bdt_real.predict(X_test)\n",
    "res[300].append(bdt_real.score(X_test, Y_test))"
   ]
  },
  {
   "cell_type": "code",
   "execution_count": 33,
   "metadata": {},
   "outputs": [],
   "source": [
    "bdt_real = AdaBoostClassifier(\n",
    "    DecisionTreeClassifier(max_depth=2),\n",
    "    n_estimators=400,\n",
    "    learning_rate=1)\n",
    "bdt_real.fit(X_train, Y_train)\n",
    "rf_pred = bdt_real.predict(X_test)\n",
    "res[400].append(bdt_real.score(X_test, Y_test))"
   ]
  },
  {
   "cell_type": "code",
   "execution_count": 34,
   "metadata": {},
   "outputs": [],
   "source": [
    "bdt_real = AdaBoostClassifier(\n",
    "    DecisionTreeClassifier(max_depth=2),\n",
    "    n_estimators=500,\n",
    "    learning_rate=1)\n",
    "bdt_real.fit(X_train, Y_train)\n",
    "rf_pred = bdt_real.predict(X_test)\n",
    "res[500].append(bdt_real.score(X_test, Y_test))"
   ]
  },
  {
   "cell_type": "code",
   "execution_count": 35,
   "metadata": {},
   "outputs": [],
   "source": [
    "bdt_real = AdaBoostClassifier(\n",
    "    DecisionTreeClassifier(max_depth=2),\n",
    "    n_estimators=600,\n",
    "    learning_rate=1)\n",
    "bdt_real.fit(X_train, Y_train)\n",
    "rf_pred = bdt_real.predict(X_test)\n",
    "res[600].append(bdt_real.score(X_test, Y_test))"
   ]
  },
  {
   "cell_type": "code",
   "execution_count": 37,
   "metadata": {},
   "outputs": [],
   "source": [
    "bdt_real = AdaBoostClassifier(\n",
    "    DecisionTreeClassifier(max_depth=2),\n",
    "    n_estimators=700,\n",
    "    learning_rate=1)\n",
    "bdt_real.fit(X_train, Y_train)\n",
    "rf_pred = bdt_real.predict(X_test)\n",
    "res[700].append(bdt_real.score(X_test, Y_test))"
   ]
  },
  {
   "cell_type": "code",
   "execution_count": 38,
   "metadata": {},
   "outputs": [],
   "source": [
    "bdt_real = AdaBoostClassifier(\n",
    "    DecisionTreeClassifier(max_depth=2),\n",
    "    n_estimators=800,\n",
    "    learning_rate=1)\n",
    "bdt_real.fit(X_train, Y_train)\n",
    "rf_pred = bdt_real.predict(X_test)\n",
    "res[800].append(bdt_real.score(X_test, Y_test))"
   ]
  },
  {
   "cell_type": "code",
   "execution_count": 39,
   "metadata": {},
   "outputs": [
    {
     "data": {
      "text/plain": [
       "{300: [0.93664],\n",
       " 400: [0.93816],\n",
       " 500: [0.96056],\n",
       " 600: [0.95272],\n",
       " 700: [0.96896],\n",
       " 800: [0.97016]}"
      ]
     },
     "execution_count": 39,
     "metadata": {},
     "output_type": "execute_result"
    }
   ],
   "source": [
    "res"
   ]
  },
  {
   "cell_type": "code",
   "execution_count": 45,
   "metadata": {},
   "outputs": [],
   "source": [
    "bdt_real = AdaBoostClassifier(\n",
    "    DecisionTreeClassifier(max_depth=2),\n",
    "    n_estimators=900,\n",
    "    learning_rate=1)\n",
    "bdt_real.fit(X_train, Y_train)\n",
    "rf_pred = bdt_real.predict(X_test)\n",
    "res[900].append(bdt_real.score(X_test, Y_test))"
   ]
  },
  {
   "cell_type": "code",
   "execution_count": 46,
   "metadata": {},
   "outputs": [],
   "source": [
    "bdt_real = AdaBoostClassifier(\n",
    "    DecisionTreeClassifier(max_depth=2),\n",
    "    n_estimators=1000,\n",
    "    learning_rate=1)\n",
    "bdt_real.fit(X_train, Y_train)\n",
    "rf_pred = bdt_real.predict(X_test)\n",
    "res[1000].append(bdt_real.score(X_test, Y_test))"
   ]
  },
  {
   "cell_type": "code",
   "execution_count": 47,
   "metadata": {},
   "outputs": [
    {
     "data": {
      "text/plain": [
       "{300: [0.93664],\n",
       " 400: [0.93816],\n",
       " 500: [0.96056],\n",
       " 600: [0.95272],\n",
       " 700: [0.96896],\n",
       " 800: [0.97016],\n",
       " 900: [0.97016],\n",
       " 1000: [0.97904]}"
      ]
     },
     "execution_count": 47,
     "metadata": {},
     "output_type": "execute_result"
    }
   ],
   "source": [
    "res"
   ]
  },
  {
   "cell_type": "code",
   "execution_count": 48,
   "metadata": {},
   "outputs": [
    {
     "data": {
      "text/plain": [
       "{300: [0.93664],\n",
       " 400: [0.93816],\n",
       " 500: [0.96056],\n",
       " 600: [0.95272],\n",
       " 700: [0.96896],\n",
       " 800: [0.97016],\n",
       " 900: [0.97016],\n",
       " 1000: [0.97904],\n",
       " 1100: [],\n",
       " 1200: [],\n",
       " 1300: []}"
      ]
     },
     "execution_count": 48,
     "metadata": {},
     "output_type": "execute_result"
    }
   ],
   "source": [
    "res[1100] = []\n",
    "res[1200] = []\n",
    "res[1300] = []\n",
    "res"
   ]
  },
  {
   "cell_type": "code",
   "execution_count": 51,
   "metadata": {},
   "outputs": [],
   "source": [
    "bdt_real = AdaBoostClassifier(\n",
    "    DecisionTreeClassifier(max_depth=2),\n",
    "    n_estimators=1100,\n",
    "    learning_rate=1)\n",
    "bdt_real.fit(X_train, Y_train)\n",
    "rf_pred = bdt_real.predict(X_test)\n",
    "res[1100].append(bdt_real.score(X_test, Y_test))"
   ]
  },
  {
   "cell_type": "code",
   "execution_count": 53,
   "metadata": {},
   "outputs": [],
   "source": [
    "bdt_real = AdaBoostClassifier(\n",
    "    DecisionTreeClassifier(max_depth=2),\n",
    "    n_estimators=1200,\n",
    "    learning_rate=1)\n",
    "bdt_real.fit(X_train, Y_train)\n",
    "rf_pred = bdt_real.predict(X_test)\n",
    "res[1200].append(bdt_real.score(X_test, Y_test))"
   ]
  },
  {
   "cell_type": "code",
   "execution_count": 55,
   "metadata": {},
   "outputs": [],
   "source": [
    "bdt_real = AdaBoostClassifier(\n",
    "    DecisionTreeClassifier(max_depth=2),\n",
    "    n_estimators=1300,\n",
    "    learning_rate=1)\n",
    "bdt_real.fit(X_train, Y_train)\n",
    "rf_pred = bdt_real.predict(X_test)\n",
    "res[1300].append(bdt_real.score(X_test, Y_test))"
   ]
  },
  {
   "cell_type": "code",
   "execution_count": 56,
   "metadata": {},
   "outputs": [
    {
     "data": {
      "text/plain": [
       "{300: [0.93664],\n",
       " 400: [0.93816],\n",
       " 500: [0.96056],\n",
       " 600: [0.95272],\n",
       " 700: [0.96896],\n",
       " 800: [0.97016],\n",
       " 900: [0.97016],\n",
       " 1000: [0.97904],\n",
       " 1100: [0.98368],\n",
       " 1200: [0.97632],\n",
       " 1300: [0.97272]}"
      ]
     },
     "execution_count": 56,
     "metadata": {},
     "output_type": "execute_result"
    }
   ],
   "source": [
    "res"
   ]
  },
  {
   "cell_type": "code",
   "execution_count": 58,
   "metadata": {},
   "outputs": [],
   "source": [
    "summary = pd.DataFrame(res)"
   ]
  },
  {
   "cell_type": "code",
   "execution_count": 94,
   "metadata": {},
   "outputs": [],
   "source": [
    "summary = summary.transpose()\n",
    "summary.rename(columns = {0:'AdaBoost Accuracy'}, inplace = True) "
   ]
  },
  {
   "cell_type": "code",
   "execution_count": 98,
   "metadata": {},
   "outputs": [],
   "source": [
    "summary.transpose().rename(columns = {0:'AdaBoost Accuracy'}, inplace = True) "
   ]
  },
  {
   "cell_type": "code",
   "execution_count": 100,
   "metadata": {},
   "outputs": [],
   "source": [
    "summary = summary.transpose()"
   ]
  },
  {
   "cell_type": "code",
   "execution_count": 111,
   "metadata": {},
   "outputs": [
    {
     "data": {
      "text/plain": [
       "[[0.93664],\n",
       " [0.93816],\n",
       " [0.96056],\n",
       " [0.95272],\n",
       " [0.96896],\n",
       " [0.97016],\n",
       " [0.97016],\n",
       " [0.97904],\n",
       " [0.98368],\n",
       " [0.97632],\n",
       " [0.97272]]"
      ]
     },
     "execution_count": 111,
     "metadata": {},
     "output_type": "execute_result"
    }
   ],
   "source": [
    "list(res.values())"
   ]
  },
  {
   "cell_type": "code",
   "execution_count": 135,
   "metadata": {},
   "outputs": [
    {
     "data": {
      "text/plain": [
       "Text(0.5,1,'Accuracy by n_estimators for AdaBoost')"
      ]
     },
     "execution_count": 135,
     "metadata": {},
     "output_type": "execute_result"
    },
    {
     "data": {
      "text/plain": [
       "<Figure size 576x360 with 0 Axes>"
      ]
     },
     "metadata": {},
     "output_type": "display_data"
    },
    {
     "data": {
      "image/png": "[encoded data removed]",
      "text/plain": [
       "<Figure size 576x360 with 1 Axes>"
      ]
     },
     "metadata": {},
     "output_type": "display_data"
    }
   ],
   "source": [
    "plt.rcParams['figure.figsize'] = 8,5\n",
    "#Now plot            \n",
    "fig = plt.figure()\n",
    "summary.plot(kind='line', legend=None)\n",
    "plt.xlabel('N_estimators')\n",
    "plt.ylabel('Model Score')\n",
    "plt.title('Accuracy by n_estimators for AdaBoost')\n",
    "\n",
    "# fig = plt.figure()\n",
    "# ax = fig.add_subplot(111)\n",
    "\n",
    "# A=[300, 400, 500, 600, 700, 800, 900, 1000,1100,1200,1300]\n",
    "# B = [0.93664, 0.93816,0.96056,0.95272,\n",
    "#  0.96896,\n",
    "#  0.97016,\n",
    "#  0.97016,\n",
    "#  0.97904,\n",
    "#  0.98368,\n",
    "#  0.97632,\n",
    "#  0.97272]\n",
    "# plt.plot(A,B)\n",
    "# for xy in zip(A, B): \n",
    "#     ax.annotate('%0.3f' % x, xy=xy, textcoords='data') # <--\n",
    "\n",
    "# plt.show()"
   ]
  },
  {
   "cell_type": "code",
   "execution_count": 64,
   "metadata": {},
   "outputs": [
    {
     "data": {
      "text/plain": [
       "AdaBoostClassifier(algorithm='SAMME.R',\n",
       "          base_estimator=DecisionTreeClassifier(class_weight=None, criterion='gini', max_depth=2,\n",
       "            max_features=None, max_leaf_nodes=None,\n",
       "            min_impurity_decrease=0.0, min_impurity_split=None,\n",
       "            min_samples_leaf=1, min_samples_split=2,\n",
       "            min_weight_fraction_leaf=0.0, presort=False, random_state=None,\n",
       "            splitter='best'),\n",
       "          learning_rate=1, n_estimators=1100, random_state=None)"
      ]
     },
     "execution_count": 64,
     "metadata": {},
     "output_type": "execute_result"
    }
   ],
   "source": [
    "bdt_real = AdaBoostClassifier(\n",
    "    DecisionTreeClassifier(max_depth=2),\n",
    "    n_estimators=1100,\n",
    "    learning_rate=1)\n",
    "bdt_real.fit(X_train, Y_train)"
   ]
  },
  {
   "cell_type": "code",
   "execution_count": 65,
   "metadata": {},
   "outputs": [
    {
     "name": "stdout",
     "output_type": "stream",
     "text": [
      "BDT REAL\n",
      "=== Confusion Matrix ===\n",
      "[[1339   88    0    0    0]\n",
      " [   6 5334   94    0    0]\n",
      " [   0    7 3649    5    0]\n",
      " [   0    0   42 1405    3]\n",
      " [   0    0    0   46  482]]\n",
      "\n",
      "\n",
      "=== Classification Report ===\n",
      "             precision    recall  f1-score   support\n",
      "\n",
      "          1       1.00      0.94      0.97      1427\n",
      "          2       0.98      0.98      0.98      5434\n",
      "          3       0.96      1.00      0.98      3661\n",
      "          4       0.96      0.97      0.97      1450\n",
      "          5       0.99      0.91      0.95       528\n",
      "\n",
      "avg / total       0.98      0.98      0.98     12500\n",
      "\n",
      "\n",
      "\n",
      "Accuracy: 0.97672\n"
     ]
    }
   ],
   "source": [
    "print(\"BDT REAL\")\n",
    "rf_pred = bdt_real.predict(X_test)\n",
    "print(\"=== Confusion Matrix ===\")\n",
    "print(confusion_matrix(Y_test, rf_pred))\n",
    "print('\\n')\n",
    "print(\"=== Classification Report ===\")\n",
    "print(classification_report(Y_test, rf_pred))\n",
    "print('\\n')\n",
    "print(\"Accuracy:\", str(bdt_real.score(X_test, Y_test)))"
   ]
  },
  {
   "cell_type": "markdown",
   "metadata": {},
   "source": [
    "## 50,000 samples"
   ]
  },
  {
   "cell_type": "code",
   "execution_count": null,
   "metadata": {},
   "outputs": [],
   "source": [
    "np.random.seed(2019)\n",
    "\n",
    "for i in [5,12,25,41]:\n",
    "    max = 1025\n",
    "    bin_width = max/i\n",
    "    bins = np.arange(0,max+bin_width,bin_width)\n",
    "    labels = list(range(1,i+1))\n",
    "\n",
    "    data_wrk = OG.copy()\n",
    "    data_wrk = data_wrk.drop(['DISPATCH_RESPONSE_SECONDS_QY'],1)\n",
    "    data_wrk['INCIDENT_TRAVEL_TM_SECONDS_QY_Bin'] = pd.cut(data_wrk['INCIDENT_TRAVEL_TM_SECONDS_QY'],bins,labels=labels)\n",
    "    data = data_wrk.drop(columns = ['INCIDENT_TRAVEL_TM_SECONDS_QY'])\n",
    "\n",
    "    X = data.drop(columns = [\"INCIDENT_TRAVEL_TM_SECONDS_QY_Bin\"])\n",
    "    Y = data[\"INCIDENT_TRAVEL_TM_SECONDS_QY_Bin\"]\n",
    "\n",
    "    X_train, X_test, Y_train, Y_test = train_test_split(X, Y, train_size=.75)\n",
    "    \n",
    "    rf_def = AdaBoostClassifier(DecisionTreeClassifier(max_depth=2), n_estimators=1100, learning_rate=1)\n",
    "    rf_def = rf_def.fit(X_train, Y_train)\n",
    "    rf_pred = rf_def.predict(X_test)\n",
    "    print(\"Accuracy:\", i, str(rf_def.score(X_test, Y_test)))"
   ]
  },
  {
   "cell_type": "markdown",
   "metadata": {},
   "source": [
    "# 25,000 samples"
   ]
  },
  {
   "cell_type": "code",
   "execution_count": 69,
   "metadata": {},
   "outputs": [
    {
     "name": "stdout",
     "output_type": "stream",
     "text": [
      "Accuracy: 5 0.86336\n",
      "Accuracy: 12 0.78736\n",
      "Accuracy: 25 0.63872\n",
      "Accuracy: 41 0.4296\n"
     ]
    }
   ],
   "source": [
    "np.random.seed(2019)\n",
    "\n",
    "for i in [5,12,25,41]:\n",
    "    max = 1025\n",
    "    bin_width = max/i\n",
    "    bins = np.arange(0,max+bin_width,bin_width)\n",
    "    labels = list(range(1,i+1))\n",
    "\n",
    "    data_wrk = OG.sample(n = 25000)\n",
    "    data_wrk = data_wrk.drop(['DISPATCH_RESPONSE_SECONDS_QY'],1)\n",
    "    data_wrk['INCIDENT_TRAVEL_TM_SECONDS_QY_Bin'] = pd.cut(data_wrk['INCIDENT_TRAVEL_TM_SECONDS_QY'],bins,labels=labels)\n",
    "    data = data_wrk.drop(columns = ['INCIDENT_TRAVEL_TM_SECONDS_QY'])\n",
    "\n",
    "    X = data.drop(columns = [\"INCIDENT_TRAVEL_TM_SECONDS_QY_Bin\"])\n",
    "    Y = data[\"INCIDENT_TRAVEL_TM_SECONDS_QY_Bin\"]\n",
    "\n",
    "    X_train, X_test, Y_train, Y_test = train_test_split(X, Y, train_size=.75)\n",
    "    \n",
    "    rf_def = AdaBoostClassifier(DecisionTreeClassifier(max_depth=2), n_estimators=1100, learning_rate=1)\n",
    "    rf_def = rf_def.fit(X_train, Y_train)\n",
    "    rf_pred = rf_def.predict(X_test)\n",
    "    print(\"Accuracy:\", i, str(rf_def.score(X_test, Y_test)))"
   ]
  },
  {
   "cell_type": "markdown",
   "metadata": {},
   "source": [
    "# 10,000 samples"
   ]
  },
  {
   "cell_type": "code",
   "execution_count": 68,
   "metadata": {},
   "outputs": [
    {
     "name": "stdout",
     "output_type": "stream",
     "text": [
      "Accuracy: 5 0.8756\n",
      "Accuracy: 12 0.814\n",
      "Accuracy: 25 0.4732\n",
      "Accuracy: 41 0.4072\n"
     ]
    }
   ],
   "source": [
    "np.random.seed(2019)\n",
    "\n",
    "for i in [5,12,25,41]:\n",
    "    max = 1025\n",
    "    bin_width = max/i\n",
    "    bins = np.arange(0,max+bin_width,bin_width)\n",
    "    labels = list(range(1,i+1))\n",
    "\n",
    "    data_wrk = OG.sample(n = 10000)\n",
    "    data_wrk = data_wrk.drop(['DISPATCH_RESPONSE_SECONDS_QY'],1)\n",
    "    data_wrk['INCIDENT_TRAVEL_TM_SECONDS_QY_Bin'] = pd.cut(data_wrk['INCIDENT_TRAVEL_TM_SECONDS_QY'],bins,labels=labels)\n",
    "    data = data_wrk.drop(columns = ['INCIDENT_TRAVEL_TM_SECONDS_QY'])\n",
    "\n",
    "    X = data.drop(columns = [\"INCIDENT_TRAVEL_TM_SECONDS_QY_Bin\"])\n",
    "    Y = data[\"INCIDENT_TRAVEL_TM_SECONDS_QY_Bin\"]\n",
    "\n",
    "    X_train, X_test, Y_train, Y_test = train_test_split(X, Y, train_size=.75)\n",
    "    \n",
    "    rf_def = AdaBoostClassifier(DecisionTreeClassifier(max_depth=2), n_estimators=1100, learning_rate=1)\n",
    "    rf_def = rf_def.fit(X_train, Y_train)\n",
    "    rf_pred = rf_def.predict(X_test)\n",
    "    print(\"Accuracy:\", i, str(rf_def.score(X_test, Y_test)))"
   ]
  },
  {
   "cell_type": "markdown",
   "metadata": {},
   "source": [
    "# 5,000 samples"
   ]
  },
  {
   "cell_type": "code",
   "execution_count": 67,
   "metadata": {},
   "outputs": [
    {
     "name": "stdout",
     "output_type": "stream",
     "text": [
      "Accuracy: 5 0.8904\n",
      "Accuracy: 12 0.8288\n",
      "Accuracy: 25 0.5704\n",
      "Accuracy: 41 0.4368\n"
     ]
    }
   ],
   "source": [
    "np.random.seed(2019)\n",
    "\n",
    "for i in [5,12,25,41]:\n",
    "    max = 1025\n",
    "    bin_width = max/i\n",
    "    bins = np.arange(0,max+bin_width,bin_width)\n",
    "    labels = list(range(1,i+1))\n",
    "\n",
    "    data_wrk = OG.sample(n = 5000)\n",
    "    data_wrk = data_wrk.drop(['DISPATCH_RESPONSE_SECONDS_QY'],1)\n",
    "    data_wrk['INCIDENT_TRAVEL_TM_SECONDS_QY_Bin'] = pd.cut(data_wrk['INCIDENT_TRAVEL_TM_SECONDS_QY'],bins,labels=labels)\n",
    "    data = data_wrk.drop(columns = ['INCIDENT_TRAVEL_TM_SECONDS_QY'])\n",
    "\n",
    "    X = data.drop(columns = [\"INCIDENT_TRAVEL_TM_SECONDS_QY_Bin\"])\n",
    "    Y = data[\"INCIDENT_TRAVEL_TM_SECONDS_QY_Bin\"]\n",
    "\n",
    "    X_train, X_test, Y_train, Y_test = train_test_split(X, Y, train_size=.75)\n",
    "    \n",
    "    rf_def = AdaBoostClassifier(DecisionTreeClassifier(max_depth=2), n_estimators=1100, learning_rate=1)\n",
    "    rf_def = rf_def.fit(X_train, Y_train)\n",
    "    rf_pred = rf_def.predict(X_test)\n",
    "    print(\"Accuracy:\", i, str(rf_def.score(X_test, Y_test)))"
   ]
  },
  {
   "cell_type": "markdown",
   "metadata": {},
   "source": [
    "# 1,000 Samples"
   ]
  },
  {
   "cell_type": "code",
   "execution_count": 66,
   "metadata": {},
   "outputs": [
    {
     "name": "stdout",
     "output_type": "stream",
     "text": [
      "Accuracy: 5 0.884\n",
      "Accuracy: 12 0.828\n",
      "Accuracy: 25 0.516\n",
      "Accuracy: 41 0.412\n"
     ]
    }
   ],
   "source": [
    "np.random.seed(2019)\n",
    "\n",
    "for i in [5,12,25,41]:\n",
    "    max = 1025\n",
    "    bin_width = max/i\n",
    "    bins = np.arange(0,max+bin_width,bin_width)\n",
    "    labels = list(range(1,i+1))\n",
    "\n",
    "    data_wrk = OG.sample(n = 1000)\n",
    "    data_wrk = data_wrk.drop(['DISPATCH_RESPONSE_SECONDS_QY'],1)\n",
    "    data_wrk['INCIDENT_TRAVEL_TM_SECONDS_QY_Bin'] = pd.cut(data_wrk['INCIDENT_TRAVEL_TM_SECONDS_QY'],bins,labels=labels)\n",
    "    data = data_wrk.drop(columns = ['INCIDENT_TRAVEL_TM_SECONDS_QY'])\n",
    "\n",
    "    X = data.drop(columns = [\"INCIDENT_TRAVEL_TM_SECONDS_QY_Bin\"])\n",
    "    Y = data[\"INCIDENT_TRAVEL_TM_SECONDS_QY_Bin\"]\n",
    "\n",
    "    X_train, X_test, Y_train, Y_test = train_test_split(X, Y, train_size=.75)\n",
    "    \n",
    "    rf_def = AdaBoostClassifier(DecisionTreeClassifier(max_depth=2), n_estimators=1100, learning_rate=1)\n",
    "    rf_def = rf_def.fit(X_train, Y_train)\n",
    "    rf_pred = rf_def.predict(X_test)\n",
    "    print(\"Accuracy:\", i, str(rf_def.score(X_test, Y_test)))"
   ]
  },
  {
   "cell_type": "code",
   "execution_count": 86,
   "metadata": {},
   "outputs": [],
   "source": [
    "ADA5 = [0.884, 0.8904 ,0.8756 ,0.86336 , 0.97672]\n",
    "ADA12 = [0.828,0.8288 ,0.814 ,0.78736 , 0.81224]\n",
    "ADA25 = [0.516,0.5704 ,0.4732 ,0.63872 , 0.75684]\n",
    "ADA41 = [0.412,0.4368 ,0.4072 ,0.4296 , 0.62224]"
   ]
  },
  {
   "cell_type": "code",
   "execution_count": 87,
   "metadata": {},
   "outputs": [],
   "source": [
    "frames = [ADA5, ADA12, ADA25, ADA41]\n",
    "\n",
    "summary_df = pd.DataFrame(frames, index = ['ADA5', 'ADA12', 'ADA25', 'ADA41'], columns=['1k', '5k', '10k', '25k', '50k'])"
   ]
  },
  {
   "cell_type": "code",
   "execution_count": 88,
   "metadata": {},
   "outputs": [
    {
     "data": {
      "text/plain": [
       "<matplotlib.axes._subplots.AxesSubplot at 0x1a1a04aef0>"
      ]
     },
     "execution_count": 88,
     "metadata": {},
     "output_type": "execute_result"
    },
    {
     "data": {
      "image/png": "[encoded data removed]",
      "text/plain": [
       "<Figure size 432x288 with 1 Axes>"
      ]
     },
     "metadata": {},
     "output_type": "display_data"
    }
   ],
   "source": [
    "summary_df.transpose().plot()"
   ]
  },
  {
   "cell_type": "code",
   "execution_count": null,
   "metadata": {},
   "outputs": [],
   "source": []
  }
 ],
 "metadata": {
  "kernelspec": {
   "display_name": "Python 3",
   "language": "python",
   "name": "python3"
  },
  "language_info": {
   "codemirror_mode": {
    "name": "ipython",
    "version": 3
   },
   "file_extension": ".py",
   "mimetype": "text/x-python",
   "name": "python",
   "nbconvert_exporter": "python",
   "pygments_lexer": "ipython3",
   "version": "3.6.4"
  }
 },
 "nbformat": 4,
 "nbformat_minor": 2
}
