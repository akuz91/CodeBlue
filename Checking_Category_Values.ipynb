{
 "cells": [
  {
   "cell_type": "code",
   "execution_count": 1,
   "metadata": {},
   "outputs": [],
   "source": [
    "import numpy as np\n",
    "import pandas as pd\n",
    "import os"
   ]
  },
  {
   "cell_type": "code",
   "execution_count": 2,
   "metadata": {},
   "outputs": [],
   "source": [
    "directory = os.getcwd()"
   ]
  },
  {
   "cell_type": "code",
   "execution_count": 3,
   "metadata": {},
   "outputs": [],
   "source": [
    "data = pd.read_csv(directory + '/cat_values.csv', sep=',') "
   ]
  },
  {
   "cell_type": "code",
   "execution_count": 134,
   "metadata": {},
   "outputs": [
    {
     "data": {
      "text/html": [
       "<div>\n",
       "<style scoped>\n",
       "    .dataframe tbody tr th:only-of-type {\n",
       "        vertical-align: middle;\n",
       "    }\n",
       "\n",
       "    .dataframe tbody tr th {\n",
       "        vertical-align: top;\n",
       "    }\n",
       "\n",
       "    .dataframe thead th {\n",
       "        text-align: right;\n",
       "    }\n",
       "</style>\n",
       "<table border=\"1\" class=\"dataframe\">\n",
       "  <thead>\n",
       "    <tr style=\"text-align: right;\">\n",
       "      <th></th>\n",
       "      <th>CAD_INCIDENT_ID</th>\n",
       "      <th>INITIAL_CALL_TYPE</th>\n",
       "      <th>HELD_INDICATOR</th>\n",
       "      <th>BOROUGH</th>\n",
       "      <th>INCIDENT_DISPATCH_AREA</th>\n",
       "      <th>TRANSFER_INDICATOR</th>\n",
       "      <th>INITIAL_CALL_TYPE.1</th>\n",
       "      <th>HELD_INDICATOR.1</th>\n",
       "      <th>BOROUGH.1</th>\n",
       "      <th>INCIDENT_DISPATCH_AREA.1</th>\n",
       "      <th>TRANSFER_INDICATOR.1</th>\n",
       "    </tr>\n",
       "  </thead>\n",
       "  <tbody>\n",
       "    <tr>\n",
       "      <th>0</th>\n",
       "      <td>183654386</td>\n",
       "      <td>CARDBR</td>\n",
       "      <td>N</td>\n",
       "      <td>BROOKLYN</td>\n",
       "      <td>K6</td>\n",
       "      <td>N</td>\n",
       "      <td>14</td>\n",
       "      <td>0</td>\n",
       "      <td>1</td>\n",
       "      <td>12</td>\n",
       "      <td>0</td>\n",
       "    </tr>\n",
       "    <tr>\n",
       "      <th>1</th>\n",
       "      <td>183654358</td>\n",
       "      <td>UNC</td>\n",
       "      <td>N</td>\n",
       "      <td>BROOKLYN</td>\n",
       "      <td>K6</td>\n",
       "      <td>N</td>\n",
       "      <td>92</td>\n",
       "      <td>0</td>\n",
       "      <td>1</td>\n",
       "      <td>12</td>\n",
       "      <td>0</td>\n",
       "    </tr>\n",
       "    <tr>\n",
       "      <th>2</th>\n",
       "      <td>183654307</td>\n",
       "      <td>UNC</td>\n",
       "      <td>N</td>\n",
       "      <td>BROOKLYN</td>\n",
       "      <td>K6</td>\n",
       "      <td>N</td>\n",
       "      <td>92</td>\n",
       "      <td>0</td>\n",
       "      <td>1</td>\n",
       "      <td>12</td>\n",
       "      <td>0</td>\n",
       "    </tr>\n",
       "    <tr>\n",
       "      <th>3</th>\n",
       "      <td>183654254</td>\n",
       "      <td>SICK</td>\n",
       "      <td>N</td>\n",
       "      <td>BROOKLYN</td>\n",
       "      <td>K6</td>\n",
       "      <td>N</td>\n",
       "      <td>81</td>\n",
       "      <td>0</td>\n",
       "      <td>1</td>\n",
       "      <td>12</td>\n",
       "      <td>0</td>\n",
       "    </tr>\n",
       "    <tr>\n",
       "      <th>4</th>\n",
       "      <td>183654246</td>\n",
       "      <td>SICMIN</td>\n",
       "      <td>N</td>\n",
       "      <td>BROOKLYN</td>\n",
       "      <td>K6</td>\n",
       "      <td>N</td>\n",
       "      <td>84</td>\n",
       "      <td>0</td>\n",
       "      <td>1</td>\n",
       "      <td>12</td>\n",
       "      <td>0</td>\n",
       "    </tr>\n",
       "  </tbody>\n",
       "</table>\n",
       "</div>"
      ],
      "text/plain": [
       "   CAD_INCIDENT_ID INITIAL_CALL_TYPE HELD_INDICATOR   BOROUGH  \\\n",
       "0        183654386            CARDBR              N  BROOKLYN   \n",
       "1        183654358               UNC              N  BROOKLYN   \n",
       "2        183654307               UNC              N  BROOKLYN   \n",
       "3        183654254              SICK              N  BROOKLYN   \n",
       "4        183654246            SICMIN              N  BROOKLYN   \n",
       "\n",
       "  INCIDENT_DISPATCH_AREA TRANSFER_INDICATOR  INITIAL_CALL_TYPE.1  \\\n",
       "0                     K6                  N                   14   \n",
       "1                     K6                  N                   92   \n",
       "2                     K6                  N                   92   \n",
       "3                     K6                  N                   81   \n",
       "4                     K6                  N                   84   \n",
       "\n",
       "   HELD_INDICATOR.1  BOROUGH.1  INCIDENT_DISPATCH_AREA.1  TRANSFER_INDICATOR.1  \n",
       "0                 0          1                        12                     0  \n",
       "1                 0          1                        12                     0  \n",
       "2                 0          1                        12                     0  \n",
       "3                 0          1                        12                     0  \n",
       "4                 0          1                        12                     0  "
      ]
     },
     "execution_count": 134,
     "metadata": {},
     "output_type": "execute_result"
    }
   ],
   "source": [
    "data.head()"
   ]
  },
  {
   "cell_type": "code",
   "execution_count": null,
   "metadata": {},
   "outputs": [],
   "source": []
  },
  {
   "cell_type": "code",
   "execution_count": null,
   "metadata": {},
   "outputs": [],
   "source": []
  },
  {
   "cell_type": "code",
   "execution_count": 5,
   "metadata": {},
   "outputs": [],
   "source": [
    "import collections\n",
    "from collections import Counter"
   ]
  },
  {
   "cell_type": "code",
   "execution_count": 14,
   "metadata": {},
   "outputs": [
    {
     "data": {
      "text/html": [
       "<div>\n",
       "<style scoped>\n",
       "    .dataframe tbody tr th:only-of-type {\n",
       "        vertical-align: middle;\n",
       "    }\n",
       "\n",
       "    .dataframe tbody tr th {\n",
       "        vertical-align: top;\n",
       "    }\n",
       "\n",
       "    .dataframe thead th {\n",
       "        text-align: right;\n",
       "    }\n",
       "</style>\n",
       "<table border=\"1\" class=\"dataframe\">\n",
       "  <thead>\n",
       "    <tr style=\"text-align: right;\">\n",
       "      <th></th>\n",
       "      <th>INITIAL_CALL_TYPE</th>\n",
       "      <th>INITIAL_CALL_TYPE.1</th>\n",
       "    </tr>\n",
       "  </thead>\n",
       "  <tbody>\n",
       "    <tr>\n",
       "      <th>0</th>\n",
       "      <td>CARDBR</td>\n",
       "      <td>14</td>\n",
       "    </tr>\n",
       "    <tr>\n",
       "      <th>1</th>\n",
       "      <td>UNC</td>\n",
       "      <td>92</td>\n",
       "    </tr>\n",
       "    <tr>\n",
       "      <th>2</th>\n",
       "      <td>UNC</td>\n",
       "      <td>92</td>\n",
       "    </tr>\n",
       "    <tr>\n",
       "      <th>3</th>\n",
       "      <td>SICK</td>\n",
       "      <td>81</td>\n",
       "    </tr>\n",
       "    <tr>\n",
       "      <th>4</th>\n",
       "      <td>SICMIN</td>\n",
       "      <td>84</td>\n",
       "    </tr>\n",
       "    <tr>\n",
       "      <th>5</th>\n",
       "      <td>EDP</td>\n",
       "      <td>30</td>\n",
       "    </tr>\n",
       "    <tr>\n",
       "      <th>6</th>\n",
       "      <td>UNC</td>\n",
       "      <td>92</td>\n",
       "    </tr>\n",
       "    <tr>\n",
       "      <th>7</th>\n",
       "      <td>PEDSTR</td>\n",
       "      <td>73</td>\n",
       "    </tr>\n",
       "    <tr>\n",
       "      <th>8</th>\n",
       "      <td>EDP</td>\n",
       "      <td>30</td>\n",
       "    </tr>\n",
       "    <tr>\n",
       "      <th>9</th>\n",
       "      <td>INBLED</td>\n",
       "      <td>39</td>\n",
       "    </tr>\n",
       "    <tr>\n",
       "      <th>10</th>\n",
       "      <td>SICK</td>\n",
       "      <td>81</td>\n",
       "    </tr>\n",
       "    <tr>\n",
       "      <th>11</th>\n",
       "      <td>DRUG</td>\n",
       "      <td>29</td>\n",
       "    </tr>\n",
       "    <tr>\n",
       "      <th>12</th>\n",
       "      <td>MVAINJ</td>\n",
       "      <td>61</td>\n",
       "    </tr>\n",
       "    <tr>\n",
       "      <th>13</th>\n",
       "      <td>EDP</td>\n",
       "      <td>30</td>\n",
       "    </tr>\n",
       "    <tr>\n",
       "      <th>14</th>\n",
       "      <td>INJMAJ</td>\n",
       "      <td>42</td>\n",
       "    </tr>\n",
       "    <tr>\n",
       "      <th>15</th>\n",
       "      <td>SEIZR</td>\n",
       "      <td>79</td>\n",
       "    </tr>\n",
       "    <tr>\n",
       "      <th>16</th>\n",
       "      <td>SICK</td>\n",
       "      <td>81</td>\n",
       "    </tr>\n",
       "    <tr>\n",
       "      <th>17</th>\n",
       "      <td>ABDPN</td>\n",
       "      <td>1</td>\n",
       "    </tr>\n",
       "    <tr>\n",
       "      <th>18</th>\n",
       "      <td>SICK</td>\n",
       "      <td>81</td>\n",
       "    </tr>\n",
       "    <tr>\n",
       "      <th>19</th>\n",
       "      <td>INJURY</td>\n",
       "      <td>44</td>\n",
       "    </tr>\n",
       "    <tr>\n",
       "      <th>20</th>\n",
       "      <td>EDP</td>\n",
       "      <td>30</td>\n",
       "    </tr>\n",
       "    <tr>\n",
       "      <th>21</th>\n",
       "      <td>INJURY</td>\n",
       "      <td>44</td>\n",
       "    </tr>\n",
       "    <tr>\n",
       "      <th>22</th>\n",
       "      <td>DRUG</td>\n",
       "      <td>29</td>\n",
       "    </tr>\n",
       "    <tr>\n",
       "      <th>23</th>\n",
       "      <td>INHALE</td>\n",
       "      <td>41</td>\n",
       "    </tr>\n",
       "    <tr>\n",
       "      <th>24</th>\n",
       "      <td>SICK</td>\n",
       "      <td>81</td>\n",
       "    </tr>\n",
       "    <tr>\n",
       "      <th>25</th>\n",
       "      <td>DRUG</td>\n",
       "      <td>29</td>\n",
       "    </tr>\n",
       "    <tr>\n",
       "      <th>26</th>\n",
       "      <td>UNKNOW</td>\n",
       "      <td>94</td>\n",
       "    </tr>\n",
       "    <tr>\n",
       "      <th>27</th>\n",
       "      <td>CVA</td>\n",
       "      <td>19</td>\n",
       "    </tr>\n",
       "    <tr>\n",
       "      <th>28</th>\n",
       "      <td>DRUG</td>\n",
       "      <td>29</td>\n",
       "    </tr>\n",
       "    <tr>\n",
       "      <th>29</th>\n",
       "      <td>INJURY</td>\n",
       "      <td>44</td>\n",
       "    </tr>\n",
       "    <tr>\n",
       "      <th>...</th>\n",
       "      <td>...</td>\n",
       "      <td>...</td>\n",
       "    </tr>\n",
       "    <tr>\n",
       "      <th>2730642</th>\n",
       "      <td>CARD</td>\n",
       "      <td>13</td>\n",
       "    </tr>\n",
       "    <tr>\n",
       "      <th>2730643</th>\n",
       "      <td>INJMIN</td>\n",
       "      <td>43</td>\n",
       "    </tr>\n",
       "    <tr>\n",
       "      <th>2730644</th>\n",
       "      <td>OTHER</td>\n",
       "      <td>68</td>\n",
       "    </tr>\n",
       "    <tr>\n",
       "      <th>2730645</th>\n",
       "      <td>CARD</td>\n",
       "      <td>13</td>\n",
       "    </tr>\n",
       "    <tr>\n",
       "      <th>2730646</th>\n",
       "      <td>DIFFBR</td>\n",
       "      <td>24</td>\n",
       "    </tr>\n",
       "    <tr>\n",
       "      <th>2730647</th>\n",
       "      <td>INJURY</td>\n",
       "      <td>44</td>\n",
       "    </tr>\n",
       "    <tr>\n",
       "      <th>2730648</th>\n",
       "      <td>CARD</td>\n",
       "      <td>13</td>\n",
       "    </tr>\n",
       "    <tr>\n",
       "      <th>2730649</th>\n",
       "      <td>ALTMEN</td>\n",
       "      <td>3</td>\n",
       "    </tr>\n",
       "    <tr>\n",
       "      <th>2730650</th>\n",
       "      <td>INJURY</td>\n",
       "      <td>44</td>\n",
       "    </tr>\n",
       "    <tr>\n",
       "      <th>2730651</th>\n",
       "      <td>INJURY</td>\n",
       "      <td>44</td>\n",
       "    </tr>\n",
       "    <tr>\n",
       "      <th>2730652</th>\n",
       "      <td>INJURY</td>\n",
       "      <td>44</td>\n",
       "    </tr>\n",
       "    <tr>\n",
       "      <th>2730653</th>\n",
       "      <td>SICK</td>\n",
       "      <td>81</td>\n",
       "    </tr>\n",
       "    <tr>\n",
       "      <th>2730654</th>\n",
       "      <td>UNKNOW</td>\n",
       "      <td>94</td>\n",
       "    </tr>\n",
       "    <tr>\n",
       "      <th>2730655</th>\n",
       "      <td>UNC</td>\n",
       "      <td>92</td>\n",
       "    </tr>\n",
       "    <tr>\n",
       "      <th>2730656</th>\n",
       "      <td>EDP</td>\n",
       "      <td>30</td>\n",
       "    </tr>\n",
       "    <tr>\n",
       "      <th>2730657</th>\n",
       "      <td>CARD</td>\n",
       "      <td>13</td>\n",
       "    </tr>\n",
       "    <tr>\n",
       "      <th>2730658</th>\n",
       "      <td>INJURY</td>\n",
       "      <td>44</td>\n",
       "    </tr>\n",
       "    <tr>\n",
       "      <th>2730659</th>\n",
       "      <td>INJURY</td>\n",
       "      <td>44</td>\n",
       "    </tr>\n",
       "    <tr>\n",
       "      <th>2730660</th>\n",
       "      <td>CARD</td>\n",
       "      <td>13</td>\n",
       "    </tr>\n",
       "    <tr>\n",
       "      <th>2730661</th>\n",
       "      <td>INJURY</td>\n",
       "      <td>44</td>\n",
       "    </tr>\n",
       "    <tr>\n",
       "      <th>2730662</th>\n",
       "      <td>INJURY</td>\n",
       "      <td>44</td>\n",
       "    </tr>\n",
       "    <tr>\n",
       "      <th>2730663</th>\n",
       "      <td>INJURY</td>\n",
       "      <td>44</td>\n",
       "    </tr>\n",
       "    <tr>\n",
       "      <th>2730664</th>\n",
       "      <td>UNC</td>\n",
       "      <td>92</td>\n",
       "    </tr>\n",
       "    <tr>\n",
       "      <th>2730665</th>\n",
       "      <td>DIFFBR</td>\n",
       "      <td>24</td>\n",
       "    </tr>\n",
       "    <tr>\n",
       "      <th>2730666</th>\n",
       "      <td>UNKNOW</td>\n",
       "      <td>94</td>\n",
       "    </tr>\n",
       "    <tr>\n",
       "      <th>2730667</th>\n",
       "      <td>INJURY</td>\n",
       "      <td>44</td>\n",
       "    </tr>\n",
       "    <tr>\n",
       "      <th>2730668</th>\n",
       "      <td>SICK</td>\n",
       "      <td>81</td>\n",
       "    </tr>\n",
       "    <tr>\n",
       "      <th>2730669</th>\n",
       "      <td>UNKNOW</td>\n",
       "      <td>94</td>\n",
       "    </tr>\n",
       "    <tr>\n",
       "      <th>2730670</th>\n",
       "      <td>ALTMEN</td>\n",
       "      <td>3</td>\n",
       "    </tr>\n",
       "    <tr>\n",
       "      <th>2730671</th>\n",
       "      <td>OTHER</td>\n",
       "      <td>68</td>\n",
       "    </tr>\n",
       "  </tbody>\n",
       "</table>\n",
       "<p>2730672 rows × 2 columns</p>\n",
       "</div>"
      ],
      "text/plain": [
       "        INITIAL_CALL_TYPE  INITIAL_CALL_TYPE.1\n",
       "0                  CARDBR                   14\n",
       "1                     UNC                   92\n",
       "2                     UNC                   92\n",
       "3                    SICK                   81\n",
       "4                  SICMIN                   84\n",
       "5                     EDP                   30\n",
       "6                     UNC                   92\n",
       "7                  PEDSTR                   73\n",
       "8                     EDP                   30\n",
       "9                  INBLED                   39\n",
       "10                   SICK                   81\n",
       "11                   DRUG                   29\n",
       "12                 MVAINJ                   61\n",
       "13                    EDP                   30\n",
       "14                 INJMAJ                   42\n",
       "15                  SEIZR                   79\n",
       "16                   SICK                   81\n",
       "17                  ABDPN                    1\n",
       "18                   SICK                   81\n",
       "19                 INJURY                   44\n",
       "20                    EDP                   30\n",
       "21                 INJURY                   44\n",
       "22                   DRUG                   29\n",
       "23                 INHALE                   41\n",
       "24                   SICK                   81\n",
       "25                   DRUG                   29\n",
       "26                 UNKNOW                   94\n",
       "27                    CVA                   19\n",
       "28                   DRUG                   29\n",
       "29                 INJURY                   44\n",
       "...                   ...                  ...\n",
       "2730642              CARD                   13\n",
       "2730643            INJMIN                   43\n",
       "2730644             OTHER                   68\n",
       "2730645              CARD                   13\n",
       "2730646            DIFFBR                   24\n",
       "2730647            INJURY                   44\n",
       "2730648              CARD                   13\n",
       "2730649            ALTMEN                    3\n",
       "2730650            INJURY                   44\n",
       "2730651            INJURY                   44\n",
       "2730652            INJURY                   44\n",
       "2730653              SICK                   81\n",
       "2730654            UNKNOW                   94\n",
       "2730655               UNC                   92\n",
       "2730656               EDP                   30\n",
       "2730657              CARD                   13\n",
       "2730658            INJURY                   44\n",
       "2730659            INJURY                   44\n",
       "2730660              CARD                   13\n",
       "2730661            INJURY                   44\n",
       "2730662            INJURY                   44\n",
       "2730663            INJURY                   44\n",
       "2730664               UNC                   92\n",
       "2730665            DIFFBR                   24\n",
       "2730666            UNKNOW                   94\n",
       "2730667            INJURY                   44\n",
       "2730668              SICK                   81\n",
       "2730669            UNKNOW                   94\n",
       "2730670            ALTMEN                    3\n",
       "2730671             OTHER                   68\n",
       "\n",
       "[2730672 rows x 2 columns]"
      ]
     },
     "execution_count": 14,
     "metadata": {},
     "output_type": "execute_result"
    }
   ],
   "source": [
    "cats = data[[\"INITIAL_CALL_TYPE\",\"INITIAL_CALL_TYPE.1\"]]\n",
    "cats"
   ]
  },
  {
   "cell_type": "code",
   "execution_count": 12,
   "metadata": {},
   "outputs": [
    {
     "data": {
      "text/plain": [
       "[('ABDPFC', 52),\n",
       " ('ABDPN', 107992),\n",
       " ('ACTIVE', 70),\n",
       " ('ALTMEN', 44646),\n",
       " ('ALTMFC', 9),\n",
       " ('AMPMAJ', 73),\n",
       " ('AMPMIN', 518),\n",
       " ('ANAPH', 16341),\n",
       " ('ARREST', 36827),\n",
       " ('ASTHFC', 1131),\n",
       " ('ASTHMB', 26866),\n",
       " ('BURNMA', 2370),\n",
       " ('BURNMI', 2463),\n",
       " ('CARD', 101033),\n",
       " ('CARDBR', 113137),\n",
       " ('CARDFC', 12),\n",
       " ('CHILDA', 304),\n",
       " ('CHOKE', 3414),\n",
       " ('COLD', 4186),\n",
       " ('CVA', 12156),\n",
       " ('CVAC', 34659),\n",
       " ('CVACFC', 5),\n",
       " ('CVAFC', 9),\n",
       " ('DDOA', 1),\n",
       " ('DIFFBR', 200655),\n",
       " ('DIFFFC', 483),\n",
       " ('DIFFRF', 2),\n",
       " ('DOA', 7),\n",
       " ('DROWN', 869),\n",
       " ('DRUG', 170614),\n",
       " ('EDP', 224345),\n",
       " ('EDPC', 6300),\n",
       " ('EDPW', 28),\n",
       " ('ELECT', 415),\n",
       " ('FIRE77', 1),\n",
       " ('GYNHEM', 7497),\n",
       " ('GYNMAJ', 3493),\n",
       " ('HEAT', 1564),\n",
       " ('HYPTN', 10067),\n",
       " ('INBLED', 23243),\n",
       " ('INBLFC', 13),\n",
       " ('INHALE', 3886),\n",
       " ('INJMAJ', 86658),\n",
       " ('INJMIN', 40619),\n",
       " ('INJURY', 310054),\n",
       " ('JUMPDN', 2335),\n",
       " ('JUMPUP', 1127),\n",
       " ('MCI21', 1219),\n",
       " ('MCI21P', 1177),\n",
       " ('MCI22', 1),\n",
       " ('MCI22P', 2),\n",
       " ('MCI26P', 4),\n",
       " ('MCI29P', 1),\n",
       " ('MCI76', 8),\n",
       " ('MCI77', 59),\n",
       " ('MEDRFC', 2),\n",
       " ('MEDRXN', 5301),\n",
       " ('MEDVAC', 13),\n",
       " ('MOSILL', 1),\n",
       " ('MOSINJ', 1),\n",
       " ('MVA', 481),\n",
       " ('MVAINJ', 80749),\n",
       " ('MVAINM', 1),\n",
       " ('OBCOMP', 3047),\n",
       " ('OBLAB', 14353),\n",
       " ('OBMAJ', 11971),\n",
       " ('OBMIS', 5556),\n",
       " ('OBOUT', 309),\n",
       " ('OTHER', 18440),\n",
       " ('PD13', 5169),\n",
       " ('PD13C', 3),\n",
       " ('PEDFC', 2448),\n",
       " ('PEDRF', 28),\n",
       " ('PEDSTR', 39171),\n",
       " ('RAPE', 435),\n",
       " ('RESPFC', 3144),\n",
       " ('RESPIR', 30519),\n",
       " ('SAFE', 693),\n",
       " ('SEIZFC', 3),\n",
       " ('SEIZR', 23830),\n",
       " ('SHOT', 4827),\n",
       " ('SICK', 424170),\n",
       " ('SICKFC', 7544),\n",
       " ('SICKRF', 14),\n",
       " ('SICMIN', 24671),\n",
       " ('SICPED', 18696),\n",
       " ('STAB', 11587),\n",
       " ('STATEP', 47825),\n",
       " ('STATFC', 1),\n",
       " ('STRANS', 89),\n",
       " ('TRAUMA', 10177),\n",
       " ('TRAUMS', 1),\n",
       " ('UNC', 140156),\n",
       " ('UNCFC', 4),\n",
       " ('UNKNOW', 190188),\n",
       " ('VENOM', 34)]"
      ]
     },
     "execution_count": 12,
     "metadata": {},
     "output_type": "execute_result"
    }
   ],
   "source": [
    "call_type_cat = collections.Counter(data[\"INITIAL_CALL_TYPE\"])\n",
    "call_type_cat = sorted(call_type_cat.items())\n",
    "call_type_cat"
   ]
  },
  {
   "cell_type": "code",
   "execution_count": 10,
   "metadata": {},
   "outputs": [],
   "source": [
    "call_type = collections.Counter(data[\"INITIAL_CALL_TYPE.1\"])"
   ]
  },
  {
   "cell_type": "code",
   "execution_count": 11,
   "metadata": {},
   "outputs": [
    {
     "data": {
      "text/plain": [
       "[(0, 52),\n",
       " (1, 107992),\n",
       " (2, 70),\n",
       " (3, 44646),\n",
       " (4, 9),\n",
       " (5, 73),\n",
       " (6, 518),\n",
       " (7, 16341),\n",
       " (8, 36827),\n",
       " (9, 1131),\n",
       " (10, 26866),\n",
       " (11, 2370),\n",
       " (12, 2463),\n",
       " (13, 101033),\n",
       " (14, 113137),\n",
       " (15, 12),\n",
       " (16, 304),\n",
       " (17, 3414),\n",
       " (18, 4186),\n",
       " (19, 12156),\n",
       " (20, 34659),\n",
       " (21, 5),\n",
       " (22, 9),\n",
       " (23, 1),\n",
       " (24, 200655),\n",
       " (25, 483),\n",
       " (26, 2),\n",
       " (27, 7),\n",
       " (28, 869),\n",
       " (29, 170614),\n",
       " (30, 224345),\n",
       " (31, 6300),\n",
       " (32, 28),\n",
       " (33, 415),\n",
       " (34, 1),\n",
       " (35, 7497),\n",
       " (36, 3493),\n",
       " (37, 1564),\n",
       " (38, 10067),\n",
       " (39, 23243),\n",
       " (40, 13),\n",
       " (41, 3886),\n",
       " (42, 86658),\n",
       " (43, 40619),\n",
       " (44, 310054),\n",
       " (45, 2335),\n",
       " (46, 1127),\n",
       " (47, 1219),\n",
       " (48, 1177),\n",
       " (49, 1),\n",
       " (50, 2),\n",
       " (51, 4),\n",
       " (52, 1),\n",
       " (53, 8),\n",
       " (54, 59),\n",
       " (55, 2),\n",
       " (56, 5301),\n",
       " (57, 13),\n",
       " (58, 1),\n",
       " (59, 1),\n",
       " (60, 481),\n",
       " (61, 80749),\n",
       " (62, 1),\n",
       " (63, 3047),\n",
       " (64, 14353),\n",
       " (65, 11971),\n",
       " (66, 5556),\n",
       " (67, 309),\n",
       " (68, 18440),\n",
       " (69, 5169),\n",
       " (70, 3),\n",
       " (71, 2448),\n",
       " (72, 28),\n",
       " (73, 39171),\n",
       " (74, 435),\n",
       " (75, 3144),\n",
       " (76, 30519),\n",
       " (77, 693),\n",
       " (78, 3),\n",
       " (79, 23830),\n",
       " (80, 4827),\n",
       " (81, 424170),\n",
       " (82, 7544),\n",
       " (83, 14),\n",
       " (84, 24671),\n",
       " (85, 18696),\n",
       " (86, 11587),\n",
       " (87, 47825),\n",
       " (88, 1),\n",
       " (89, 89),\n",
       " (90, 10177),\n",
       " (91, 1),\n",
       " (92, 140156),\n",
       " (93, 4),\n",
       " (94, 190188),\n",
       " (95, 34)]"
      ]
     },
     "execution_count": 11,
     "metadata": {},
     "output_type": "execute_result"
    }
   ],
   "source": [
    "call_type = sorted(call_type.items())\n",
    "call_type"
   ]
  },
  {
   "cell_type": "code",
   "execution_count": 35,
   "metadata": {},
   "outputs": [
    {
     "data": {
      "text/plain": [
       "151245    0\n",
       "289508    0\n",
       "294176    0\n",
       "400216    0\n",
       "405603    0\n",
       "Name: INITIAL_CALL_TYPE.1, dtype: int64"
      ]
     },
     "execution_count": 35,
     "metadata": {},
     "output_type": "execute_result"
    }
   ],
   "source": [
    "data[data[\"INITIAL_CALL_TYPE\"]==\"ABDPFC\"][\"INITIAL_CALL_TYPE.1\"].head()"
   ]
  },
  {
   "cell_type": "code",
   "execution_count": 36,
   "metadata": {},
   "outputs": [
    {
     "data": {
      "text/plain": [
       "17     1\n",
       "99     1\n",
       "148    1\n",
       "174    1\n",
       "191    1\n",
       "Name: INITIAL_CALL_TYPE.1, dtype: int64"
      ]
     },
     "execution_count": 36,
     "metadata": {},
     "output_type": "execute_result"
    }
   ],
   "source": [
    "data[data[\"INITIAL_CALL_TYPE\"]==\"ABDPN\"][\"INITIAL_CALL_TYPE.1\"].head()"
   ]
  },
  {
   "cell_type": "code",
   "execution_count": 37,
   "metadata": {},
   "outputs": [
    {
     "data": {
      "text/plain": [
       "210    3\n",
       "254    3\n",
       "259    3\n",
       "375    3\n",
       "419    3\n",
       "Name: INITIAL_CALL_TYPE.1, dtype: int64"
      ]
     },
     "execution_count": 37,
     "metadata": {},
     "output_type": "execute_result"
    }
   ],
   "source": [
    "data[data[\"INITIAL_CALL_TYPE\"]==\"ALTMEN\"][\"INITIAL_CALL_TYPE.1\"].head()"
   ]
  },
  {
   "cell_type": "code",
   "execution_count": 38,
   "metadata": {},
   "outputs": [
    {
     "data": {
      "text/plain": [
       "283413     4\n",
       "721101     4\n",
       "728807     4\n",
       "885009     4\n",
       "1122042    4\n",
       "Name: INITIAL_CALL_TYPE.1, dtype: int64"
      ]
     },
     "execution_count": 38,
     "metadata": {},
     "output_type": "execute_result"
    }
   ],
   "source": [
    "data[data[\"INITIAL_CALL_TYPE\"]==\"ALTMFC\"][\"INITIAL_CALL_TYPE.1\"].head()"
   ]
  },
  {
   "cell_type": "code",
   "execution_count": 39,
   "metadata": {},
   "outputs": [
    {
     "data": {
      "text/plain": [
       "60649     5\n",
       "133699    5\n",
       "165203    5\n",
       "175349    5\n",
       "181270    5\n",
       "Name: INITIAL_CALL_TYPE.1, dtype: int64"
      ]
     },
     "execution_count": 39,
     "metadata": {},
     "output_type": "execute_result"
    }
   ],
   "source": [
    "data[data[\"INITIAL_CALL_TYPE\"]==\"AMPMAJ\"][\"INITIAL_CALL_TYPE.1\"].head()"
   ]
  },
  {
   "cell_type": "code",
   "execution_count": 40,
   "metadata": {},
   "outputs": [
    {
     "data": {
      "text/plain": [
       "6491     6\n",
       "9169     6\n",
       "17818    6\n",
       "18488    6\n",
       "19557    6\n",
       "Name: INITIAL_CALL_TYPE.1, dtype: int64"
      ]
     },
     "execution_count": 40,
     "metadata": {},
     "output_type": "execute_result"
    }
   ],
   "source": [
    "data[data[\"INITIAL_CALL_TYPE\"]==\"AMPMIN\"][\"INITIAL_CALL_TYPE.1\"].head()"
   ]
  },
  {
   "cell_type": "code",
   "execution_count": 41,
   "metadata": {},
   "outputs": [
    {
     "data": {
      "text/plain": [
       "31      7\n",
       "246     7\n",
       "363     7\n",
       "1068    7\n",
       "1104    7\n",
       "Name: INITIAL_CALL_TYPE.1, dtype: int64"
      ]
     },
     "execution_count": 41,
     "metadata": {},
     "output_type": "execute_result"
    }
   ],
   "source": [
    "data[data[\"INITIAL_CALL_TYPE\"]==\"ANAPH\"][\"INITIAL_CALL_TYPE.1\"].head()"
   ]
  },
  {
   "cell_type": "code",
   "execution_count": 42,
   "metadata": {},
   "outputs": [
    {
     "data": {
      "text/plain": [
       "103    8\n",
       "156    8\n",
       "275    8\n",
       "407    8\n",
       "439    8\n",
       "Name: INITIAL_CALL_TYPE.1, dtype: int64"
      ]
     },
     "execution_count": 42,
     "metadata": {},
     "output_type": "execute_result"
    }
   ],
   "source": [
    "data[data[\"INITIAL_CALL_TYPE\"]==\"ARREST\"][\"INITIAL_CALL_TYPE.1\"].head()"
   ]
  },
  {
   "cell_type": "code",
   "execution_count": 43,
   "metadata": {},
   "outputs": [
    {
     "data": {
      "text/plain": [
       "82     13\n",
       "88     13\n",
       "107    13\n",
       "192    13\n",
       "235    13\n",
       "Name: INITIAL_CALL_TYPE.1, dtype: int64"
      ]
     },
     "execution_count": 43,
     "metadata": {},
     "output_type": "execute_result"
    }
   ],
   "source": [
    "data[data[\"INITIAL_CALL_TYPE\"]==\"CARD\"][\"INITIAL_CALL_TYPE.1\"].head()"
   ]
  },
  {
   "cell_type": "code",
   "execution_count": 44,
   "metadata": {},
   "outputs": [
    {
     "data": {
      "text/plain": [
       "0     14\n",
       "34    14\n",
       "53    14\n",
       "77    14\n",
       "80    14\n",
       "Name: INITIAL_CALL_TYPE.1, dtype: int64"
      ]
     },
     "execution_count": 44,
     "metadata": {},
     "output_type": "execute_result"
    }
   ],
   "source": [
    "data[data[\"INITIAL_CALL_TYPE\"]==\"CARDBR\"][\"INITIAL_CALL_TYPE.1\"].head()"
   ]
  },
  {
   "cell_type": "code",
   "execution_count": 45,
   "metadata": {},
   "outputs": [
    {
     "data": {
      "text/plain": [
       "41954      15\n",
       "81587      15\n",
       "400064     15\n",
       "724707     15\n",
       "1004730    15\n",
       "Name: INITIAL_CALL_TYPE.1, dtype: int64"
      ]
     },
     "execution_count": 45,
     "metadata": {},
     "output_type": "execute_result"
    }
   ],
   "source": [
    "data[data[\"INITIAL_CALL_TYPE\"]==\"CARDFC\"][\"INITIAL_CALL_TYPE.1\"].head()"
   ]
  },
  {
   "cell_type": "code",
   "execution_count": 46,
   "metadata": {},
   "outputs": [
    {
     "data": {
      "text/plain": [
       "31794    9\n",
       "32187    9\n",
       "32369    9\n",
       "32386    9\n",
       "32484    9\n",
       "Name: INITIAL_CALL_TYPE.1, dtype: int64"
      ]
     },
     "execution_count": 46,
     "metadata": {},
     "output_type": "execute_result"
    }
   ],
   "source": [
    "data[data[\"INITIAL_CALL_TYPE\"]==\"ASTHFC\"][\"INITIAL_CALL_TYPE.1\"].head()"
   ]
  },
  {
   "cell_type": "code",
   "execution_count": 47,
   "metadata": {},
   "outputs": [
    {
     "data": {
      "text/plain": [
       "85     10\n",
       "98     10\n",
       "119    10\n",
       "188    10\n",
       "272    10\n",
       "Name: INITIAL_CALL_TYPE.1, dtype: int64"
      ]
     },
     "execution_count": 47,
     "metadata": {},
     "output_type": "execute_result"
    }
   ],
   "source": [
    "data[data[\"INITIAL_CALL_TYPE\"]==\"ASTHMB\"][\"INITIAL_CALL_TYPE.1\"].head()"
   ]
  },
  {
   "cell_type": "code",
   "execution_count": 48,
   "metadata": {},
   "outputs": [
    {
     "data": {
      "text/plain": [
       "66      11\n",
       "1187    11\n",
       "1623    11\n",
       "3621    11\n",
       "4590    11\n",
       "Name: INITIAL_CALL_TYPE.1, dtype: int64"
      ]
     },
     "execution_count": 48,
     "metadata": {},
     "output_type": "execute_result"
    }
   ],
   "source": [
    "data[data[\"INITIAL_CALL_TYPE\"]==\"BURNMA\"][\"INITIAL_CALL_TYPE.1\"].head()"
   ]
  },
  {
   "cell_type": "code",
   "execution_count": 49,
   "metadata": {},
   "outputs": [
    {
     "data": {
      "text/plain": [
       "1908    12\n",
       "4342    12\n",
       "4574    12\n",
       "5066    12\n",
       "8130    12\n",
       "Name: INITIAL_CALL_TYPE.1, dtype: int64"
      ]
     },
     "execution_count": 49,
     "metadata": {},
     "output_type": "execute_result"
    }
   ],
   "source": [
    "data[data[\"INITIAL_CALL_TYPE\"]==\"BURNMI\"][\"INITIAL_CALL_TYPE.1\"].head()"
   ]
  },
  {
   "cell_type": "code",
   "execution_count": 50,
   "metadata": {},
   "outputs": [
    {
     "data": {
      "text/plain": [
       "17495    16\n",
       "39681    16\n",
       "41052    16\n",
       "54046    16\n",
       "63133    16\n",
       "Name: INITIAL_CALL_TYPE.1, dtype: int64"
      ]
     },
     "execution_count": 50,
     "metadata": {},
     "output_type": "execute_result"
    }
   ],
   "source": [
    "data[data[\"INITIAL_CALL_TYPE\"]==\"CHILDA\"][\"INITIAL_CALL_TYPE.1\"].head()"
   ]
  },
  {
   "cell_type": "code",
   "execution_count": 51,
   "metadata": {},
   "outputs": [
    {
     "data": {
      "text/plain": [
       "203     17\n",
       "399     17\n",
       "441     17\n",
       "1035    17\n",
       "1342    17\n",
       "Name: INITIAL_CALL_TYPE.1, dtype: int64"
      ]
     },
     "execution_count": 51,
     "metadata": {},
     "output_type": "execute_result"
    }
   ],
   "source": [
    "data[data[\"INITIAL_CALL_TYPE\"]==\"CHOKE\"][\"INITIAL_CALL_TYPE.1\"].head()"
   ]
  },
  {
   "cell_type": "code",
   "execution_count": 52,
   "metadata": {},
   "outputs": [
    {
     "data": {
      "text/plain": [
       "177     18\n",
       "216     18\n",
       "1425    18\n",
       "2629    18\n",
       "3637    18\n",
       "Name: INITIAL_CALL_TYPE.1, dtype: int64"
      ]
     },
     "execution_count": 52,
     "metadata": {},
     "output_type": "execute_result"
    }
   ],
   "source": [
    "data[data[\"INITIAL_CALL_TYPE\"]==\"COLD\"][\"INITIAL_CALL_TYPE.1\"].head()"
   ]
  },
  {
   "cell_type": "code",
   "execution_count": 53,
   "metadata": {},
   "outputs": [
    {
     "data": {
      "text/plain": [
       "27     19\n",
       "58     19\n",
       "331    19\n",
       "433    19\n",
       "451    19\n",
       "Name: INITIAL_CALL_TYPE.1, dtype: int64"
      ]
     },
     "execution_count": 53,
     "metadata": {},
     "output_type": "execute_result"
    }
   ],
   "source": [
    "data[data[\"INITIAL_CALL_TYPE\"]==\"CVA\"][\"INITIAL_CALL_TYPE.1\"].head()"
   ]
  },
  {
   "cell_type": "code",
   "execution_count": 54,
   "metadata": {},
   "outputs": [
    {
     "data": {
      "text/plain": [
       "157    20\n",
       "193    20\n",
       "362    20\n",
       "606    20\n",
       "662    20\n",
       "Name: INITIAL_CALL_TYPE.1, dtype: int64"
      ]
     },
     "execution_count": 54,
     "metadata": {},
     "output_type": "execute_result"
    }
   ],
   "source": [
    "data[data[\"INITIAL_CALL_TYPE\"]==\"CVAC\"][\"INITIAL_CALL_TYPE.1\"].head()"
   ]
  },
  {
   "cell_type": "code",
   "execution_count": 55,
   "metadata": {},
   "outputs": [
    {
     "data": {
      "text/plain": [
       "1104532    21\n",
       "1577046    21\n",
       "1833351    21\n",
       "2370828    21\n",
       "2507622    21\n",
       "Name: INITIAL_CALL_TYPE.1, dtype: int64"
      ]
     },
     "execution_count": 55,
     "metadata": {},
     "output_type": "execute_result"
    }
   ],
   "source": [
    "data[data[\"INITIAL_CALL_TYPE\"]==\"CVACFC\"][\"INITIAL_CALL_TYPE.1\"].head()"
   ]
  },
  {
   "cell_type": "code",
   "execution_count": 56,
   "metadata": {},
   "outputs": [
    {
     "data": {
      "text/plain": [
       "528936     22\n",
       "760381     22\n",
       "1188487    22\n",
       "1377985    22\n",
       "1574138    22\n",
       "Name: INITIAL_CALL_TYPE.1, dtype: int64"
      ]
     },
     "execution_count": 56,
     "metadata": {},
     "output_type": "execute_result"
    }
   ],
   "source": [
    "data[data[\"INITIAL_CALL_TYPE\"]==\"CVAFC\"][\"INITIAL_CALL_TYPE.1\"].head()"
   ]
  },
  {
   "cell_type": "code",
   "execution_count": 57,
   "metadata": {},
   "outputs": [
    {
     "data": {
      "text/plain": [
       "406418    23\n",
       "Name: INITIAL_CALL_TYPE.1, dtype: int64"
      ]
     },
     "execution_count": 57,
     "metadata": {},
     "output_type": "execute_result"
    }
   ],
   "source": [
    "data[data[\"INITIAL_CALL_TYPE\"]==\"DDOA\"][\"INITIAL_CALL_TYPE.1\"].head()"
   ]
  },
  {
   "cell_type": "code",
   "execution_count": 58,
   "metadata": {},
   "outputs": [
    {
     "data": {
      "text/plain": [
       "220261     27\n",
       "379339     27\n",
       "1228085    27\n",
       "1245855    27\n",
       "1617365    27\n",
       "Name: INITIAL_CALL_TYPE.1, dtype: int64"
      ]
     },
     "execution_count": 58,
     "metadata": {},
     "output_type": "execute_result"
    }
   ],
   "source": [
    "data[data[\"INITIAL_CALL_TYPE\"]==\"DOA\"][\"INITIAL_CALL_TYPE.1\"].head()"
   ]
  },
  {
   "cell_type": "code",
   "execution_count": 59,
   "metadata": {},
   "outputs": [
    {
     "data": {
      "text/plain": [
       "37    24\n",
       "48    24\n",
       "61    24\n",
       "69    24\n",
       "96    24\n",
       "Name: INITIAL_CALL_TYPE.1, dtype: int64"
      ]
     },
     "execution_count": 59,
     "metadata": {},
     "output_type": "execute_result"
    }
   ],
   "source": [
    "data[data[\"INITIAL_CALL_TYPE\"]==\"DIFFBR\"][\"INITIAL_CALL_TYPE.1\"].head()"
   ]
  },
  {
   "cell_type": "code",
   "execution_count": 60,
   "metadata": {},
   "outputs": [
    {
     "data": {
      "text/plain": [
       "33318    25\n",
       "33731    25\n",
       "33889    25\n",
       "34419    25\n",
       "35770    25\n",
       "Name: INITIAL_CALL_TYPE.1, dtype: int64"
      ]
     },
     "execution_count": 60,
     "metadata": {},
     "output_type": "execute_result"
    }
   ],
   "source": [
    "data[data[\"INITIAL_CALL_TYPE\"]==\"DIFFFC\"][\"INITIAL_CALL_TYPE.1\"].head()"
   ]
  },
  {
   "cell_type": "code",
   "execution_count": 61,
   "metadata": {},
   "outputs": [
    {
     "data": {
      "text/plain": [
       "292273     26\n",
       "1745946    26\n",
       "Name: INITIAL_CALL_TYPE.1, dtype: int64"
      ]
     },
     "execution_count": 61,
     "metadata": {},
     "output_type": "execute_result"
    }
   ],
   "source": [
    "data[data[\"INITIAL_CALL_TYPE\"]==\"DIFFRF\"][\"INITIAL_CALL_TYPE.1\"].head()"
   ]
  },
  {
   "cell_type": "code",
   "execution_count": 62,
   "metadata": {},
   "outputs": [
    {
     "data": {
      "text/plain": [
       "31664    75\n",
       "31669    75\n",
       "31775    75\n",
       "31839    75\n",
       "31842    75\n",
       "Name: INITIAL_CALL_TYPE.1, dtype: int64"
      ]
     },
     "execution_count": 62,
     "metadata": {},
     "output_type": "execute_result"
    }
   ],
   "source": [
    "data[data[\"INITIAL_CALL_TYPE\"]==\"RESPFC\"][\"INITIAL_CALL_TYPE.1\"].head()"
   ]
  },
  {
   "cell_type": "code",
   "execution_count": 63,
   "metadata": {},
   "outputs": [
    {
     "data": {
      "text/plain": [
       "315    76\n",
       "320    76\n",
       "438    76\n",
       "628    76\n",
       "633    76\n",
       "Name: INITIAL_CALL_TYPE.1, dtype: int64"
      ]
     },
     "execution_count": 63,
     "metadata": {},
     "output_type": "execute_result"
    }
   ],
   "source": [
    "data[data[\"INITIAL_CALL_TYPE\"]==\"RESPIR\"][\"INITIAL_CALL_TYPE.1\"].head()"
   ]
  },
  {
   "cell_type": "code",
   "execution_count": 65,
   "metadata": {},
   "outputs": [
    {
     "data": {
      "text/plain": [
       "23      41\n",
       "262     41\n",
       "1304    41\n",
       "1807    41\n",
       "5240    41\n",
       "Name: INITIAL_CALL_TYPE.1, dtype: int64"
      ]
     },
     "execution_count": 65,
     "metadata": {},
     "output_type": "execute_result"
    }
   ],
   "source": [
    "data[data[\"INITIAL_CALL_TYPE\"]==\"INHALE\"][\"INITIAL_CALL_TYPE.1\"].head()"
   ]
  },
  {
   "cell_type": "code",
   "execution_count": 66,
   "metadata": {},
   "outputs": [
    {
     "data": {
      "text/plain": [
       "1317     28\n",
       "7600     28\n",
       "11201    28\n",
       "13511    28\n",
       "16185    28\n",
       "Name: INITIAL_CALL_TYPE.1, dtype: int64"
      ]
     },
     "execution_count": 66,
     "metadata": {},
     "output_type": "execute_result"
    }
   ],
   "source": [
    "data[data[\"INITIAL_CALL_TYPE\"]==\"DROWN\"][\"INITIAL_CALL_TYPE.1\"].head()"
   ]
  },
  {
   "cell_type": "code",
   "execution_count": 67,
   "metadata": {},
   "outputs": [
    {
     "data": {
      "text/plain": [
       "11    29\n",
       "22    29\n",
       "25    29\n",
       "28    29\n",
       "30    29\n",
       "Name: INITIAL_CALL_TYPE.1, dtype: int64"
      ]
     },
     "execution_count": 67,
     "metadata": {},
     "output_type": "execute_result"
    }
   ],
   "source": [
    "data[data[\"INITIAL_CALL_TYPE\"]==\"DRUG\"][\"INITIAL_CALL_TYPE.1\"].head()"
   ]
  },
  {
   "cell_type": "code",
   "execution_count": 68,
   "metadata": {},
   "outputs": [
    {
     "data": {
      "text/plain": [
       "5     30\n",
       "8     30\n",
       "13    30\n",
       "20    30\n",
       "39    30\n",
       "Name: INITIAL_CALL_TYPE.1, dtype: int64"
      ]
     },
     "execution_count": 68,
     "metadata": {},
     "output_type": "execute_result"
    }
   ],
   "source": [
    "data[data[\"INITIAL_CALL_TYPE\"]==\"EDP\"][\"INITIAL_CALL_TYPE.1\"].head()"
   ]
  },
  {
   "cell_type": "code",
   "execution_count": 69,
   "metadata": {},
   "outputs": [
    {
     "data": {
      "text/plain": [
       "92     31\n",
       "190    31\n",
       "255    31\n",
       "390    31\n",
       "404    31\n",
       "Name: INITIAL_CALL_TYPE.1, dtype: int64"
      ]
     },
     "execution_count": 69,
     "metadata": {},
     "output_type": "execute_result"
    }
   ],
   "source": [
    "data[data[\"INITIAL_CALL_TYPE\"]==\"EDPC\"][\"INITIAL_CALL_TYPE.1\"].head()"
   ]
  },
  {
   "cell_type": "code",
   "execution_count": 70,
   "metadata": {},
   "outputs": [
    {
     "data": {
      "text/plain": [
       "1388069    32\n",
       "1388866    32\n",
       "1389052    32\n",
       "1389239    32\n",
       "1389277    32\n",
       "Name: INITIAL_CALL_TYPE.1, dtype: int64"
      ]
     },
     "execution_count": 70,
     "metadata": {},
     "output_type": "execute_result"
    }
   ],
   "source": [
    "data[data[\"INITIAL_CALL_TYPE\"]==\"EDPW\"][\"INITIAL_CALL_TYPE.1\"].head()"
   ]
  },
  {
   "cell_type": "code",
   "execution_count": 71,
   "metadata": {},
   "outputs": [
    {
     "data": {
      "text/plain": [
       "13284    33\n",
       "14592    33\n",
       "32774    33\n",
       "32923    33\n",
       "46324    33\n",
       "Name: INITIAL_CALL_TYPE.1, dtype: int64"
      ]
     },
     "execution_count": 71,
     "metadata": {},
     "output_type": "execute_result"
    }
   ],
   "source": [
    "data[data[\"INITIAL_CALL_TYPE\"]==\"ELECT\"][\"INITIAL_CALL_TYPE.1\"].head()"
   ]
  },
  {
   "cell_type": "code",
   "execution_count": 72,
   "metadata": {},
   "outputs": [
    {
     "data": {
      "text/plain": [
       "106    35\n",
       "159    35\n",
       "198    35\n",
       "239    35\n",
       "415    35\n",
       "Name: INITIAL_CALL_TYPE.1, dtype: int64"
      ]
     },
     "execution_count": 72,
     "metadata": {},
     "output_type": "execute_result"
    }
   ],
   "source": [
    "data[data[\"INITIAL_CALL_TYPE\"]==\"GYNHEM\"][\"INITIAL_CALL_TYPE.1\"].head()"
   ]
  },
  {
   "cell_type": "code",
   "execution_count": 73,
   "metadata": {},
   "outputs": [
    {
     "data": {
      "text/plain": [
       "332     36\n",
       "1880    36\n",
       "2259    36\n",
       "2820    36\n",
       "4916    36\n",
       "Name: INITIAL_CALL_TYPE.1, dtype: int64"
      ]
     },
     "execution_count": 73,
     "metadata": {},
     "output_type": "execute_result"
    }
   ],
   "source": [
    "data[data[\"INITIAL_CALL_TYPE\"]==\"GYNMAJ\"][\"INITIAL_CALL_TYPE.1\"].head()"
   ]
  },
  {
   "cell_type": "code",
   "execution_count": 74,
   "metadata": {},
   "outputs": [
    {
     "data": {
      "text/plain": [
       "782     63\n",
       "1554    63\n",
       "2273    63\n",
       "2448    63\n",
       "4001    63\n",
       "Name: INITIAL_CALL_TYPE.1, dtype: int64"
      ]
     },
     "execution_count": 74,
     "metadata": {},
     "output_type": "execute_result"
    }
   ],
   "source": [
    "data[data[\"INITIAL_CALL_TYPE\"]==\"OBCOMP\"][\"INITIAL_CALL_TYPE.1\"].head()"
   ]
  },
  {
   "cell_type": "code",
   "execution_count": 75,
   "metadata": {},
   "outputs": [
    {
     "data": {
      "text/plain": [
       "237     64\n",
       "373     64\n",
       "684     64\n",
       "985     64\n",
       "1019    64\n",
       "Name: INITIAL_CALL_TYPE.1, dtype: int64"
      ]
     },
     "execution_count": 75,
     "metadata": {},
     "output_type": "execute_result"
    }
   ],
   "source": [
    "data[data[\"INITIAL_CALL_TYPE\"]==\"OBLAB\"][\"INITIAL_CALL_TYPE.1\"].head()"
   ]
  },
  {
   "cell_type": "code",
   "execution_count": 76,
   "metadata": {},
   "outputs": [
    {
     "data": {
      "text/plain": [
       "45      65\n",
       "885     65\n",
       "904     65\n",
       "1251    65\n",
       "1969    65\n",
       "Name: INITIAL_CALL_TYPE.1, dtype: int64"
      ]
     },
     "execution_count": 76,
     "metadata": {},
     "output_type": "execute_result"
    }
   ],
   "source": [
    "data[data[\"INITIAL_CALL_TYPE\"]==\"OBMAJ\"][\"INITIAL_CALL_TYPE.1\"].head()"
   ]
  },
  {
   "cell_type": "code",
   "execution_count": 77,
   "metadata": {},
   "outputs": [
    {
     "data": {
      "text/plain": [
       "208     66\n",
       "1405    66\n",
       "2263    66\n",
       "2531    66\n",
       "2675    66\n",
       "Name: INITIAL_CALL_TYPE.1, dtype: int64"
      ]
     },
     "execution_count": 77,
     "metadata": {},
     "output_type": "execute_result"
    }
   ],
   "source": [
    "data[data[\"INITIAL_CALL_TYPE\"]==\"OBMIS\"][\"INITIAL_CALL_TYPE.1\"].head()"
   ]
  },
  {
   "cell_type": "code",
   "execution_count": 78,
   "metadata": {},
   "outputs": [
    {
     "data": {
      "text/plain": [
       "8327     67\n",
       "10112    67\n",
       "14275    67\n",
       "39292    67\n",
       "47496    67\n",
       "Name: INITIAL_CALL_TYPE.1, dtype: int64"
      ]
     },
     "execution_count": 78,
     "metadata": {},
     "output_type": "execute_result"
    }
   ],
   "source": [
    "data[data[\"INITIAL_CALL_TYPE\"]==\"OBOUT\"][\"INITIAL_CALL_TYPE.1\"].head()"
   ]
  },
  {
   "cell_type": "code",
   "execution_count": 79,
   "metadata": {},
   "outputs": [
    {
     "data": {
      "text/plain": [
       "14840    37\n",
       "14862    37\n",
       "14959    37\n",
       "15019    37\n",
       "15124    37\n",
       "Name: INITIAL_CALL_TYPE.1, dtype: int64"
      ]
     },
     "execution_count": 79,
     "metadata": {},
     "output_type": "execute_result"
    }
   ],
   "source": [
    "data[data[\"INITIAL_CALL_TYPE\"]==\"HEAT\"][\"INITIAL_CALL_TYPE.1\"].head()"
   ]
  },
  {
   "cell_type": "code",
   "execution_count": 80,
   "metadata": {},
   "outputs": [
    {
     "data": {
      "text/plain": [
       "596     38\n",
       "836     38\n",
       "856     38\n",
       "935     38\n",
       "1502    38\n",
       "Name: INITIAL_CALL_TYPE.1, dtype: int64"
      ]
     },
     "execution_count": 80,
     "metadata": {},
     "output_type": "execute_result"
    }
   ],
   "source": [
    "data[data[\"INITIAL_CALL_TYPE\"]==\"HYPTN\"][\"INITIAL_CALL_TYPE.1\"].head()"
   ]
  },
  {
   "cell_type": "code",
   "execution_count": 81,
   "metadata": {},
   "outputs": [
    {
     "data": {
      "text/plain": [
       "9      39\n",
       "133    39\n",
       "233    39\n",
       "243    39\n",
       "291    39\n",
       "Name: INITIAL_CALL_TYPE.1, dtype: int64"
      ]
     },
     "execution_count": 81,
     "metadata": {},
     "output_type": "execute_result"
    }
   ],
   "source": [
    "data[data[\"INITIAL_CALL_TYPE\"]==\"INBLED\"][\"INITIAL_CALL_TYPE.1\"].head()"
   ]
  },
  {
   "cell_type": "code",
   "execution_count": 82,
   "metadata": {},
   "outputs": [
    {
     "data": {
      "text/plain": [
       "88935     40\n",
       "89411     40\n",
       "150387    40\n",
       "405307    40\n",
       "406195    40\n",
       "Name: INITIAL_CALL_TYPE.1, dtype: int64"
      ]
     },
     "execution_count": 82,
     "metadata": {},
     "output_type": "execute_result"
    }
   ],
   "source": [
    "data[data[\"INITIAL_CALL_TYPE\"]==\"INBLFC\"][\"INITIAL_CALL_TYPE.1\"].head()"
   ]
  },
  {
   "cell_type": "code",
   "execution_count": 83,
   "metadata": {},
   "outputs": [
    {
     "data": {
      "text/plain": [
       "14    42\n",
       "49    42\n",
       "86    42\n",
       "89    42\n",
       "91    42\n",
       "Name: INITIAL_CALL_TYPE.1, dtype: int64"
      ]
     },
     "execution_count": 83,
     "metadata": {},
     "output_type": "execute_result"
    }
   ],
   "source": [
    "data[data[\"INITIAL_CALL_TYPE\"]==\"INJMAJ\"][\"INITIAL_CALL_TYPE.1\"].head()"
   ]
  },
  {
   "cell_type": "code",
   "execution_count": 84,
   "metadata": {},
   "outputs": [
    {
     "data": {
      "text/plain": [
       "33     43\n",
       "87     43\n",
       "251    43\n",
       "556    43\n",
       "575    43\n",
       "Name: INITIAL_CALL_TYPE.1, dtype: int64"
      ]
     },
     "execution_count": 84,
     "metadata": {},
     "output_type": "execute_result"
    }
   ],
   "source": [
    "data[data[\"INITIAL_CALL_TYPE\"]==\"INJMIN\"][\"INITIAL_CALL_TYPE.1\"].head()"
   ]
  },
  {
   "cell_type": "code",
   "execution_count": 85,
   "metadata": {},
   "outputs": [
    {
     "data": {
      "text/plain": [
       "19    44\n",
       "21    44\n",
       "29    44\n",
       "35    44\n",
       "42    44\n",
       "Name: INITIAL_CALL_TYPE.1, dtype: int64"
      ]
     },
     "execution_count": 85,
     "metadata": {},
     "output_type": "execute_result"
    }
   ],
   "source": [
    "data[data[\"INITIAL_CALL_TYPE\"]==\"INJURY\"][\"INITIAL_CALL_TYPE.1\"].head()"
   ]
  },
  {
   "cell_type": "code",
   "execution_count": 86,
   "metadata": {},
   "outputs": [
    {
     "data": {
      "text/plain": [
       "2700984    59\n",
       "Name: INITIAL_CALL_TYPE.1, dtype: int64"
      ]
     },
     "execution_count": 86,
     "metadata": {},
     "output_type": "execute_result"
    }
   ],
   "source": [
    "data[data[\"INITIAL_CALL_TYPE\"]==\"MOSINJ\"][\"INITIAL_CALL_TYPE.1\"].head()"
   ]
  },
  {
   "cell_type": "code",
   "execution_count": 87,
   "metadata": {},
   "outputs": [
    {
     "data": {
      "text/plain": [
       "1337    45\n",
       "1601    45\n",
       "4132    45\n",
       "5362    45\n",
       "6768    45\n",
       "Name: INITIAL_CALL_TYPE.1, dtype: int64"
      ]
     },
     "execution_count": 87,
     "metadata": {},
     "output_type": "execute_result"
    }
   ],
   "source": [
    "data[data[\"INITIAL_CALL_TYPE\"]==\"JUMPDN\"][\"INITIAL_CALL_TYPE.1\"].head()"
   ]
  },
  {
   "cell_type": "code",
   "execution_count": 88,
   "metadata": {},
   "outputs": [
    {
     "data": {
      "text/plain": [
       "2807    46\n",
       "4551    46\n",
       "5230    46\n",
       "5635    46\n",
       "6162    46\n",
       "Name: INITIAL_CALL_TYPE.1, dtype: int64"
      ]
     },
     "execution_count": 88,
     "metadata": {},
     "output_type": "execute_result"
    }
   ],
   "source": [
    "data[data[\"INITIAL_CALL_TYPE\"]==\"JUMPUP\"][\"INITIAL_CALL_TYPE.1\"].head()"
   ]
  },
  {
   "cell_type": "code",
   "execution_count": 89,
   "metadata": {},
   "outputs": [
    {
     "data": {
      "text/plain": [
       "428     47\n",
       "2785    47\n",
       "3204    47\n",
       "3426    47\n",
       "5567    47\n",
       "Name: INITIAL_CALL_TYPE.1, dtype: int64"
      ]
     },
     "execution_count": 89,
     "metadata": {},
     "output_type": "execute_result"
    }
   ],
   "source": [
    "data[data[\"INITIAL_CALL_TYPE\"]==\"MCI21\"][\"INITIAL_CALL_TYPE.1\"].head()"
   ]
  },
  {
   "cell_type": "code",
   "execution_count": 90,
   "metadata": {},
   "outputs": [
    {
     "data": {
      "text/plain": [
       "47575    48\n",
       "47885    48\n",
       "49284    48\n",
       "50984    48\n",
       "52291    48\n",
       "Name: INITIAL_CALL_TYPE.1, dtype: int64"
      ]
     },
     "execution_count": 90,
     "metadata": {},
     "output_type": "execute_result"
    }
   ],
   "source": [
    "data[data[\"INITIAL_CALL_TYPE\"]==\"MCI21P\"][\"INITIAL_CALL_TYPE.1\"].head()"
   ]
  },
  {
   "cell_type": "code",
   "execution_count": 91,
   "metadata": {},
   "outputs": [
    {
     "data": {
      "text/plain": [
       "1935612    49\n",
       "Name: INITIAL_CALL_TYPE.1, dtype: int64"
      ]
     },
     "execution_count": 91,
     "metadata": {},
     "output_type": "execute_result"
    }
   ],
   "source": [
    "data[data[\"INITIAL_CALL_TYPE\"]==\"MCI22\"][\"INITIAL_CALL_TYPE.1\"].head()"
   ]
  },
  {
   "cell_type": "code",
   "execution_count": 92,
   "metadata": {},
   "outputs": [
    {
     "data": {
      "text/plain": [
       "678878     50\n",
       "2027952    50\n",
       "Name: INITIAL_CALL_TYPE.1, dtype: int64"
      ]
     },
     "execution_count": 92,
     "metadata": {},
     "output_type": "execute_result"
    }
   ],
   "source": [
    "data[data[\"INITIAL_CALL_TYPE\"]==\"MCI22P\"][\"INITIAL_CALL_TYPE.1\"].head()"
   ]
  },
  {
   "cell_type": "code",
   "execution_count": 93,
   "metadata": {},
   "outputs": [
    {
     "data": {
      "text/plain": [
       "2263885    34\n",
       "Name: INITIAL_CALL_TYPE.1, dtype: int64"
      ]
     },
     "execution_count": 93,
     "metadata": {},
     "output_type": "execute_result"
    }
   ],
   "source": [
    "data[data[\"INITIAL_CALL_TYPE\"]==\"FIRE77\"][\"INITIAL_CALL_TYPE.1\"].head()"
   ]
  },
  {
   "cell_type": "code",
   "execution_count": 94,
   "metadata": {},
   "outputs": [
    {
     "data": {
      "text/plain": [
       "1273629    51\n",
       "1274406    51\n",
       "2096470    51\n",
       "2293153    51\n",
       "Name: INITIAL_CALL_TYPE.1, dtype: int64"
      ]
     },
     "execution_count": 94,
     "metadata": {},
     "output_type": "execute_result"
    }
   ],
   "source": [
    "data[data[\"INITIAL_CALL_TYPE\"]==\"MCI26P\"][\"INITIAL_CALL_TYPE.1\"].head()"
   ]
  },
  {
   "cell_type": "code",
   "execution_count": 95,
   "metadata": {},
   "outputs": [
    {
     "data": {
      "text/plain": [
       "431032    53\n",
       "444733    53\n",
       "453275    53\n",
       "476760    53\n",
       "513627    53\n",
       "Name: INITIAL_CALL_TYPE.1, dtype: int64"
      ]
     },
     "execution_count": 95,
     "metadata": {},
     "output_type": "execute_result"
    }
   ],
   "source": [
    "data[data[\"INITIAL_CALL_TYPE\"]==\"MCI76\"][\"INITIAL_CALL_TYPE.1\"].head()"
   ]
  },
  {
   "cell_type": "code",
   "execution_count": 96,
   "metadata": {},
   "outputs": [
    {
     "data": {
      "text/plain": [
       "643       54\n",
       "6202      54\n",
       "26634     54\n",
       "83854     54\n",
       "309275    54\n",
       "Name: INITIAL_CALL_TYPE.1, dtype: int64"
      ]
     },
     "execution_count": 96,
     "metadata": {},
     "output_type": "execute_result"
    }
   ],
   "source": [
    "data[data[\"INITIAL_CALL_TYPE\"]==\"MCI77\"][\"INITIAL_CALL_TYPE.1\"].head()"
   ]
  },
  {
   "cell_type": "code",
   "execution_count": 97,
   "metadata": {},
   "outputs": [
    {
     "data": {
      "text/plain": [
       "1272006    52\n",
       "Name: INITIAL_CALL_TYPE.1, dtype: int64"
      ]
     },
     "execution_count": 97,
     "metadata": {},
     "output_type": "execute_result"
    }
   ],
   "source": [
    "data[data[\"INITIAL_CALL_TYPE\"]==\"MCI29P\"][\"INITIAL_CALL_TYPE.1\"].head()"
   ]
  },
  {
   "cell_type": "code",
   "execution_count": 98,
   "metadata": {},
   "outputs": [
    {
     "data": {
      "text/plain": [
       "1012688    55\n",
       "2468255    55\n",
       "Name: INITIAL_CALL_TYPE.1, dtype: int64"
      ]
     },
     "execution_count": 98,
     "metadata": {},
     "output_type": "execute_result"
    }
   ],
   "source": [
    "data[data[\"INITIAL_CALL_TYPE\"]==\"MEDRFC\"][\"INITIAL_CALL_TYPE.1\"].head()"
   ]
  },
  {
   "cell_type": "code",
   "execution_count": 99,
   "metadata": {},
   "outputs": [
    {
     "data": {
      "text/plain": [
       "60      56\n",
       "1769    56\n",
       "2098    56\n",
       "3518    56\n",
       "3592    56\n",
       "Name: INITIAL_CALL_TYPE.1, dtype: int64"
      ]
     },
     "execution_count": 99,
     "metadata": {},
     "output_type": "execute_result"
    }
   ],
   "source": [
    "data[data[\"INITIAL_CALL_TYPE\"]==\"MEDRXN\"][\"INITIAL_CALL_TYPE.1\"].head()"
   ]
  },
  {
   "cell_type": "code",
   "execution_count": 100,
   "metadata": {},
   "outputs": [
    {
     "data": {
      "text/plain": [
       "473433    57\n",
       "793482    57\n",
       "826653    57\n",
       "826660    57\n",
       "828077    57\n",
       "Name: INITIAL_CALL_TYPE.1, dtype: int64"
      ]
     },
     "execution_count": 100,
     "metadata": {},
     "output_type": "execute_result"
    }
   ],
   "source": [
    "data[data[\"INITIAL_CALL_TYPE\"]==\"MEDVAC\"][\"INITIAL_CALL_TYPE.1\"].head()"
   ]
  },
  {
   "cell_type": "code",
   "execution_count": 101,
   "metadata": {},
   "outputs": [
    {
     "data": {
      "text/plain": [
       "8148     60\n",
       "26227    60\n",
       "58283    60\n",
       "61795    60\n",
       "72465    60\n",
       "Name: INITIAL_CALL_TYPE.1, dtype: int64"
      ]
     },
     "execution_count": 101,
     "metadata": {},
     "output_type": "execute_result"
    }
   ],
   "source": [
    "data[data[\"INITIAL_CALL_TYPE\"]==\"MVA\"][\"INITIAL_CALL_TYPE.1\"].head()"
   ]
  },
  {
   "cell_type": "code",
   "execution_count": 102,
   "metadata": {},
   "outputs": [
    {
     "data": {
      "text/plain": [
       "12     61\n",
       "36     61\n",
       "130    61\n",
       "153    61\n",
       "207    61\n",
       "Name: INITIAL_CALL_TYPE.1, dtype: int64"
      ]
     },
     "execution_count": 102,
     "metadata": {},
     "output_type": "execute_result"
    }
   ],
   "source": [
    "data[data[\"INITIAL_CALL_TYPE\"]==\"MVAINJ\"][\"INITIAL_CALL_TYPE.1\"].head()"
   ]
  },
  {
   "cell_type": "code",
   "execution_count": 103,
   "metadata": {},
   "outputs": [
    {
     "data": {
      "text/plain": [
       "542480    62\n",
       "Name: INITIAL_CALL_TYPE.1, dtype: int64"
      ]
     },
     "execution_count": 103,
     "metadata": {},
     "output_type": "execute_result"
    }
   ],
   "source": [
    "data[data[\"INITIAL_CALL_TYPE\"]==\"MVAINM\"][\"INITIAL_CALL_TYPE.1\"].head()"
   ]
  },
  {
   "cell_type": "code",
   "execution_count": 104,
   "metadata": {},
   "outputs": [
    {
     "data": {
      "text/plain": [
       "1569    69\n",
       "2508    69\n",
       "2878    69\n",
       "3187    69\n",
       "3876    69\n",
       "Name: INITIAL_CALL_TYPE.1, dtype: int64"
      ]
     },
     "execution_count": 104,
     "metadata": {},
     "output_type": "execute_result"
    }
   ],
   "source": [
    "data[data[\"INITIAL_CALL_TYPE\"]==\"PD13\"][\"INITIAL_CALL_TYPE.1\"].head()"
   ]
  },
  {
   "cell_type": "code",
   "execution_count": 105,
   "metadata": {},
   "outputs": [
    {
     "data": {
      "text/plain": [
       "899419     70\n",
       "1840677    70\n",
       "2074079    70\n",
       "Name: INITIAL_CALL_TYPE.1, dtype: int64"
      ]
     },
     "execution_count": 105,
     "metadata": {},
     "output_type": "execute_result"
    }
   ],
   "source": [
    "data[data[\"INITIAL_CALL_TYPE\"]==\"PD13C\"][\"INITIAL_CALL_TYPE.1\"].head()"
   ]
  },
  {
   "cell_type": "code",
   "execution_count": 106,
   "metadata": {},
   "outputs": [
    {
     "data": {
      "text/plain": [
       "31913    71\n",
       "32722    71\n",
       "33325    71\n",
       "33818    71\n",
       "34276    71\n",
       "Name: INITIAL_CALL_TYPE.1, dtype: int64"
      ]
     },
     "execution_count": 106,
     "metadata": {},
     "output_type": "execute_result"
    }
   ],
   "source": [
    "data[data[\"INITIAL_CALL_TYPE\"]==\"PEDFC\"][\"INITIAL_CALL_TYPE.1\"].head()"
   ]
  },
  {
   "cell_type": "code",
   "execution_count": 107,
   "metadata": {},
   "outputs": [
    {
     "data": {
      "text/plain": [
       "77850     72\n",
       "283273    72\n",
       "404289    72\n",
       "724604    72\n",
       "725619    72\n",
       "Name: INITIAL_CALL_TYPE.1, dtype: int64"
      ]
     },
     "execution_count": 107,
     "metadata": {},
     "output_type": "execute_result"
    }
   ],
   "source": [
    "data[data[\"INITIAL_CALL_TYPE\"]==\"PEDRF\"][\"INITIAL_CALL_TYPE.1\"].head()"
   ]
  },
  {
   "cell_type": "code",
   "execution_count": 108,
   "metadata": {},
   "outputs": [
    {
     "data": {
      "text/plain": [
       "31655    82\n",
       "31830    82\n",
       "32025    82\n",
       "32048    82\n",
       "32137    82\n",
       "Name: INITIAL_CALL_TYPE.1, dtype: int64"
      ]
     },
     "execution_count": 108,
     "metadata": {},
     "output_type": "execute_result"
    }
   ],
   "source": [
    "data[data[\"INITIAL_CALL_TYPE\"]==\"SICKFC\"][\"INITIAL_CALL_TYPE.1\"].head()"
   ]
  },
  {
   "cell_type": "code",
   "execution_count": 109,
   "metadata": {},
   "outputs": [
    {
     "data": {
      "text/plain": [
       "532532    83\n",
       "712822    83\n",
       "719041    83\n",
       "729128    83\n",
       "729729    83\n",
       "Name: INITIAL_CALL_TYPE.1, dtype: int64"
      ]
     },
     "execution_count": 109,
     "metadata": {},
     "output_type": "execute_result"
    }
   ],
   "source": [
    "data[data[\"INITIAL_CALL_TYPE\"]==\"SICKRF\"][\"INITIAL_CALL_TYPE.1\"].head()"
   ]
  },
  {
   "cell_type": "code",
   "execution_count": 110,
   "metadata": {},
   "outputs": [
    {
     "data": {
      "text/plain": [
       "4      84\n",
       "112    84\n",
       "117    84\n",
       "124    84\n",
       "127    84\n",
       "Name: INITIAL_CALL_TYPE.1, dtype: int64"
      ]
     },
     "execution_count": 110,
     "metadata": {},
     "output_type": "execute_result"
    }
   ],
   "source": [
    "data[data[\"INITIAL_CALL_TYPE\"]==\"SICMIN\"][\"INITIAL_CALL_TYPE.1\"].head()"
   ]
  },
  {
   "cell_type": "code",
   "execution_count": 112,
   "metadata": {},
   "outputs": [
    {
     "data": {
      "text/plain": [
       "3     81\n",
       "10    81\n",
       "16    81\n",
       "18    81\n",
       "24    81\n",
       "Name: INITIAL_CALL_TYPE.1, dtype: int64"
      ]
     },
     "execution_count": 112,
     "metadata": {},
     "output_type": "execute_result"
    }
   ],
   "source": [
    "data[data[\"INITIAL_CALL_TYPE\"]==\"SICK\"][\"INITIAL_CALL_TYPE.1\"].head()"
   ]
  },
  {
   "cell_type": "code",
   "execution_count": 113,
   "metadata": {},
   "outputs": [
    {
     "data": {
      "text/plain": [
       "1869715    58\n",
       "Name: INITIAL_CALL_TYPE.1, dtype: int64"
      ]
     },
     "execution_count": 113,
     "metadata": {},
     "output_type": "execute_result"
    }
   ],
   "source": [
    "data[data[\"INITIAL_CALL_TYPE\"]==\"MOSILL\"][\"INITIAL_CALL_TYPE.1\"].head()"
   ]
  },
  {
   "cell_type": "code",
   "execution_count": 114,
   "metadata": {},
   "outputs": [
    {
     "data": {
      "text/plain": [
       "7      73\n",
       "32     73\n",
       "266    73\n",
       "453    73\n",
       "550    73\n",
       "Name: INITIAL_CALL_TYPE.1, dtype: int64"
      ]
     },
     "execution_count": 114,
     "metadata": {},
     "output_type": "execute_result"
    }
   ],
   "source": [
    "data[data[\"INITIAL_CALL_TYPE\"]==\"PEDSTR\"][\"INITIAL_CALL_TYPE.1\"].head()"
   ]
  },
  {
   "cell_type": "code",
   "execution_count": 115,
   "metadata": {},
   "outputs": [
    {
     "data": {
      "text/plain": [
       "71038    74\n",
       "74188    74\n",
       "75760    74\n",
       "79340    74\n",
       "80306    74\n",
       "Name: INITIAL_CALL_TYPE.1, dtype: int64"
      ]
     },
     "execution_count": 115,
     "metadata": {},
     "output_type": "execute_result"
    }
   ],
   "source": [
    "data[data[\"INITIAL_CALL_TYPE\"]==\"RAPE\"][\"INITIAL_CALL_TYPE.1\"].head()"
   ]
  },
  {
   "cell_type": "code",
   "execution_count": 116,
   "metadata": {},
   "outputs": [
    {
     "data": {
      "text/plain": [
       "283428     78\n",
       "1746768    78\n",
       "2290005    78\n",
       "Name: INITIAL_CALL_TYPE.1, dtype: int64"
      ]
     },
     "execution_count": 116,
     "metadata": {},
     "output_type": "execute_result"
    }
   ],
   "source": [
    "data[data[\"INITIAL_CALL_TYPE\"]==\"SEIZFC\"][\"INITIAL_CALL_TYPE.1\"].head()"
   ]
  },
  {
   "cell_type": "code",
   "execution_count": 117,
   "metadata": {},
   "outputs": [
    {
     "data": {
      "text/plain": [
       "15     79\n",
       "64     79\n",
       "101    79\n",
       "256    79\n",
       "347    79\n",
       "Name: INITIAL_CALL_TYPE.1, dtype: int64"
      ]
     },
     "execution_count": 117,
     "metadata": {},
     "output_type": "execute_result"
    }
   ],
   "source": [
    "data[data[\"INITIAL_CALL_TYPE\"]==\"SEIZR\"][\"INITIAL_CALL_TYPE.1\"].head()"
   ]
  },
  {
   "cell_type": "code",
   "execution_count": 118,
   "metadata": {},
   "outputs": [
    {
     "data": {
      "text/plain": [
       "1783378    88\n",
       "Name: INITIAL_CALL_TYPE.1, dtype: int64"
      ]
     },
     "execution_count": 118,
     "metadata": {},
     "output_type": "execute_result"
    }
   ],
   "source": [
    "data[data[\"INITIAL_CALL_TYPE\"]==\"STATFC\"][\"INITIAL_CALL_TYPE.1\"].head()"
   ]
  },
  {
   "cell_type": "code",
   "execution_count": 119,
   "metadata": {},
   "outputs": [
    {
     "data": {
      "text/plain": [
       "234     80\n",
       "916     80\n",
       "2189    80\n",
       "2241    80\n",
       "2738    80\n",
       "Name: INITIAL_CALL_TYPE.1, dtype: int64"
      ]
     },
     "execution_count": 119,
     "metadata": {},
     "output_type": "execute_result"
    }
   ],
   "source": [
    "data[data[\"INITIAL_CALL_TYPE\"]==\"SHOT\"][\"INITIAL_CALL_TYPE.1\"].head()"
   ]
  },
  {
   "cell_type": "code",
   "execution_count": 120,
   "metadata": {},
   "outputs": [
    {
     "data": {
      "text/plain": [
       "40670     2\n",
       "69825     2\n",
       "361308    2\n",
       "416438    2\n",
       "430565    2\n",
       "Name: INITIAL_CALL_TYPE.1, dtype: int64"
      ]
     },
     "execution_count": 120,
     "metadata": {},
     "output_type": "execute_result"
    }
   ],
   "source": [
    "data[data[\"INITIAL_CALL_TYPE\"]==\"ACTIVE\"][\"INITIAL_CALL_TYPE.1\"].head()"
   ]
  },
  {
   "cell_type": "code",
   "execution_count": 121,
   "metadata": {},
   "outputs": [
    {
     "data": {
      "text/plain": [
       "361     86\n",
       "1025    86\n",
       "1335    86\n",
       "1670    86\n",
       "1877    86\n",
       "Name: INITIAL_CALL_TYPE.1, dtype: int64"
      ]
     },
     "execution_count": 121,
     "metadata": {},
     "output_type": "execute_result"
    }
   ],
   "source": [
    "data[data[\"INITIAL_CALL_TYPE\"]==\"STAB\"][\"INITIAL_CALL_TYPE.1\"].head()"
   ]
  },
  {
   "cell_type": "code",
   "execution_count": 122,
   "metadata": {},
   "outputs": [
    {
     "data": {
      "text/plain": [
       "50     87\n",
       "71     87\n",
       "158    87\n",
       "171    87\n",
       "221    87\n",
       "Name: INITIAL_CALL_TYPE.1, dtype: int64"
      ]
     },
     "execution_count": 122,
     "metadata": {},
     "output_type": "execute_result"
    }
   ],
   "source": [
    "data[data[\"INITIAL_CALL_TYPE\"]==\"STATEP\"][\"INITIAL_CALL_TYPE.1\"].head()"
   ]
  },
  {
   "cell_type": "code",
   "execution_count": 123,
   "metadata": {},
   "outputs": [
    {
     "data": {
      "text/plain": [
       "414     90\n",
       "996     90\n",
       "1079    90\n",
       "1287    90\n",
       "1826    90\n",
       "Name: INITIAL_CALL_TYPE.1, dtype: int64"
      ]
     },
     "execution_count": 123,
     "metadata": {},
     "output_type": "execute_result"
    }
   ],
   "source": [
    "data[data[\"INITIAL_CALL_TYPE\"]==\"TRAUMA\"][\"INITIAL_CALL_TYPE.1\"].head()"
   ]
  },
  {
   "cell_type": "code",
   "execution_count": 124,
   "metadata": {},
   "outputs": [
    {
     "data": {
      "text/plain": [
       "2231245    91\n",
       "Name: INITIAL_CALL_TYPE.1, dtype: int64"
      ]
     },
     "execution_count": 124,
     "metadata": {},
     "output_type": "execute_result"
    }
   ],
   "source": [
    "data[data[\"INITIAL_CALL_TYPE\"]==\"TRAUMS\"][\"INITIAL_CALL_TYPE.1\"].head()"
   ]
  },
  {
   "cell_type": "code",
   "execution_count": 125,
   "metadata": {},
   "outputs": [
    {
     "data": {
      "text/plain": [
       "1      92\n",
       "2      92\n",
       "6      92\n",
       "75     92\n",
       "114    92\n",
       "Name: INITIAL_CALL_TYPE.1, dtype: int64"
      ]
     },
     "execution_count": 125,
     "metadata": {},
     "output_type": "execute_result"
    }
   ],
   "source": [
    "data[data[\"INITIAL_CALL_TYPE\"]==\"UNC\"][\"INITIAL_CALL_TYPE.1\"].head()"
   ]
  },
  {
   "cell_type": "code",
   "execution_count": 126,
   "metadata": {},
   "outputs": [
    {
     "data": {
      "text/plain": [
       "117950     93\n",
       "1323437    93\n",
       "1411837    93\n",
       "2468371    93\n",
       "Name: INITIAL_CALL_TYPE.1, dtype: int64"
      ]
     },
     "execution_count": 126,
     "metadata": {},
     "output_type": "execute_result"
    }
   ],
   "source": [
    "data[data[\"INITIAL_CALL_TYPE\"]==\"UNCFC\"][\"INITIAL_CALL_TYPE.1\"].head()"
   ]
  },
  {
   "cell_type": "code",
   "execution_count": 127,
   "metadata": {},
   "outputs": [
    {
     "data": {
      "text/plain": [
       "19367     95\n",
       "115387    95\n",
       "273189    95\n",
       "512938    95\n",
       "542141    95\n",
       "Name: INITIAL_CALL_TYPE.1, dtype: int64"
      ]
     },
     "execution_count": 127,
     "metadata": {},
     "output_type": "execute_result"
    }
   ],
   "source": [
    "data[data[\"INITIAL_CALL_TYPE\"]==\"VENOM\"][\"INITIAL_CALL_TYPE.1\"].head()"
   ]
  },
  {
   "cell_type": "code",
   "execution_count": 128,
   "metadata": {},
   "outputs": [
    {
     "data": {
      "text/plain": [
       "108    68\n",
       "154    68\n",
       "646    68\n",
       "651    68\n",
       "666    68\n",
       "Name: INITIAL_CALL_TYPE.1, dtype: int64"
      ]
     },
     "execution_count": 128,
     "metadata": {},
     "output_type": "execute_result"
    }
   ],
   "source": [
    "data[data[\"INITIAL_CALL_TYPE\"]==\"OTHER\"][\"INITIAL_CALL_TYPE.1\"].head()"
   ]
  },
  {
   "cell_type": "code",
   "execution_count": 129,
   "metadata": {
    "scrolled": true
   },
   "outputs": [
    {
     "data": {
      "text/plain": [
       "26    94\n",
       "40    94\n",
       "44    94\n",
       "46    94\n",
       "55    94\n",
       "Name: INITIAL_CALL_TYPE.1, dtype: int64"
      ]
     },
     "execution_count": 129,
     "metadata": {},
     "output_type": "execute_result"
    }
   ],
   "source": [
    "data[data[\"INITIAL_CALL_TYPE\"]==\"UNKNOW\"][\"INITIAL_CALL_TYPE.1\"].head()"
   ]
  },
  {
   "cell_type": "code",
   "execution_count": 132,
   "metadata": {},
   "outputs": [
    {
     "data": {
      "text/html": [
       "<div>\n",
       "<style scoped>\n",
       "    .dataframe tbody tr th:only-of-type {\n",
       "        vertical-align: middle;\n",
       "    }\n",
       "\n",
       "    .dataframe tbody tr th {\n",
       "        vertical-align: top;\n",
       "    }\n",
       "\n",
       "    .dataframe thead th {\n",
       "        text-align: right;\n",
       "    }\n",
       "</style>\n",
       "<table border=\"1\" class=\"dataframe\">\n",
       "  <thead>\n",
       "    <tr style=\"text-align: right;\">\n",
       "      <th></th>\n",
       "      <th>CAD_INCIDENT_ID</th>\n",
       "      <th>INITIAL_CALL_TYPE</th>\n",
       "      <th>HELD_INDICATOR</th>\n",
       "      <th>BOROUGH</th>\n",
       "      <th>INCIDENT_DISPATCH_AREA</th>\n",
       "      <th>TRANSFER_INDICATOR</th>\n",
       "      <th>INITIAL_CALL_TYPE.1</th>\n",
       "      <th>HELD_INDICATOR.1</th>\n",
       "      <th>BOROUGH.1</th>\n",
       "      <th>INCIDENT_DISPATCH_AREA.1</th>\n",
       "      <th>TRANSFER_INDICATOR.1</th>\n",
       "    </tr>\n",
       "  </thead>\n",
       "  <tbody>\n",
       "    <tr>\n",
       "      <th>17</th>\n",
       "      <td>183653890</td>\n",
       "      <td>ABDPN</td>\n",
       "      <td>N</td>\n",
       "      <td>BROOKLYN</td>\n",
       "      <td>K6</td>\n",
       "      <td>N</td>\n",
       "      <td>1</td>\n",
       "      <td>0</td>\n",
       "      <td>1</td>\n",
       "      <td>12</td>\n",
       "      <td>0</td>\n",
       "    </tr>\n",
       "  </tbody>\n",
       "</table>\n",
       "</div>"
      ],
      "text/plain": [
       "    CAD_INCIDENT_ID INITIAL_CALL_TYPE HELD_INDICATOR   BOROUGH  \\\n",
       "17        183653890             ABDPN              N  BROOKLYN   \n",
       "\n",
       "   INCIDENT_DISPATCH_AREA TRANSFER_INDICATOR  INITIAL_CALL_TYPE.1  \\\n",
       "17                     K6                  N                    1   \n",
       "\n",
       "    HELD_INDICATOR.1  BOROUGH.1  INCIDENT_DISPATCH_AREA.1  \\\n",
       "17                 0          1                        12   \n",
       "\n",
       "    TRANSFER_INDICATOR.1  \n",
       "17                     0  "
      ]
     },
     "execution_count": 132,
     "metadata": {},
     "output_type": "execute_result"
    }
   ],
   "source": [
    "data.loc[[17]]"
   ]
  },
  {
   "cell_type": "markdown",
   "metadata": {},
   "source": [
    "***INCIDENT DISPATCH AREA***"
   ]
  },
  {
   "cell_type": "code",
   "execution_count": 139,
   "metadata": {},
   "outputs": [
    {
     "data": {
      "text/plain": [
       "[('B1', 159617),\n",
       " ('B2', 194140),\n",
       " ('B3', 127326),\n",
       " ('B4', 75829),\n",
       " ('B5', 85395),\n",
       " ('C1', 1),\n",
       " ('CW', 41),\n",
       " ('K1', 116639),\n",
       " ('K2', 96951),\n",
       " ('K3', 87493),\n",
       " ('K4', 191689),\n",
       " ('K5', 72491),\n",
       " ('K6', 91516),\n",
       " ('K7', 111291),\n",
       " ('M1', 80470),\n",
       " ('M2', 126045),\n",
       " ('M3', 128623),\n",
       " ('M4', 53483),\n",
       " ('M5', 70772),\n",
       " ('M6', 22915),\n",
       " ('M7', 81957),\n",
       " ('M8', 36825),\n",
       " ('M9', 74831),\n",
       " ('Q1', 38581),\n",
       " ('Q2', 144175),\n",
       " ('Q3', 60192),\n",
       " ('Q4', 51329),\n",
       " ('Q5', 30681),\n",
       " ('Q6', 143590),\n",
       " ('Q7', 61024),\n",
       " ('S1', 57600),\n",
       " ('S2', 42742),\n",
       " ('S3', 14191),\n",
       " ('X1', 220),\n",
       " ('X2', 7)]"
      ]
     },
     "execution_count": 139,
     "metadata": {},
     "output_type": "execute_result"
    }
   ],
   "source": [
    "disp_area = collections.Counter(data[\"INCIDENT_DISPATCH_AREA\"])\n",
    "disp_area = sorted(disp_area.items())\n",
    "disp_area"
   ]
  },
  {
   "cell_type": "code",
   "execution_count": 140,
   "metadata": {},
   "outputs": [
    {
     "data": {
      "text/plain": [
       "1589004    0\n",
       "1589005    0\n",
       "1589006    0\n",
       "1589007    0\n",
       "1589008    0\n",
       "Name: INCIDENT_DISPATCH_AREA.1, dtype: int64"
      ]
     },
     "execution_count": 140,
     "metadata": {},
     "output_type": "execute_result"
    }
   ],
   "source": [
    "data[data[\"INCIDENT_DISPATCH_AREA\"]==\"B1\"][\"INCIDENT_DISPATCH_AREA.1\"].head()"
   ]
  },
  {
   "cell_type": "code",
   "execution_count": 143,
   "metadata": {},
   "outputs": [
    {
     "data": {
      "text/plain": [
       "928837    1\n",
       "928838    1\n",
       "928839    1\n",
       "928840    1\n",
       "928841    1\n",
       "Name: INCIDENT_DISPATCH_AREA.1, dtype: int64"
      ]
     },
     "execution_count": 143,
     "metadata": {},
     "output_type": "execute_result"
    }
   ],
   "source": [
    "data[data[\"INCIDENT_DISPATCH_AREA\"]==\"B2\"][\"INCIDENT_DISPATCH_AREA.1\"].head()"
   ]
  },
  {
   "cell_type": "code",
   "execution_count": 144,
   "metadata": {},
   "outputs": [
    {
     "data": {
      "text/plain": [
       "762930    2\n",
       "762931    2\n",
       "762932    2\n",
       "762933    2\n",
       "762934    2\n",
       "Name: INCIDENT_DISPATCH_AREA.1, dtype: int64"
      ]
     },
     "execution_count": 144,
     "metadata": {},
     "output_type": "execute_result"
    }
   ],
   "source": [
    "data[data[\"INCIDENT_DISPATCH_AREA\"]==\"B3\"][\"INCIDENT_DISPATCH_AREA.1\"].head()"
   ]
  },
  {
   "cell_type": "code",
   "execution_count": 145,
   "metadata": {},
   "outputs": [
    {
     "data": {
      "text/plain": [
       "1836114    3\n",
       "1836115    3\n",
       "1836116    3\n",
       "1836117    3\n",
       "1836118    3\n",
       "Name: INCIDENT_DISPATCH_AREA.1, dtype: int64"
      ]
     },
     "execution_count": 145,
     "metadata": {},
     "output_type": "execute_result"
    }
   ],
   "source": [
    "data[data[\"INCIDENT_DISPATCH_AREA\"]==\"B4\"][\"INCIDENT_DISPATCH_AREA.1\"].head()"
   ]
  },
  {
   "cell_type": "code",
   "execution_count": 146,
   "metadata": {},
   "outputs": [
    {
     "data": {
      "text/plain": [
       "2513831    4\n",
       "2513832    4\n",
       "2513833    4\n",
       "2513834    4\n",
       "2513835    4\n",
       "Name: INCIDENT_DISPATCH_AREA.1, dtype: int64"
      ]
     },
     "execution_count": 146,
     "metadata": {},
     "output_type": "execute_result"
    }
   ],
   "source": [
    "data[data[\"INCIDENT_DISPATCH_AREA\"]==\"B5\"][\"INCIDENT_DISPATCH_AREA.1\"].head()"
   ]
  },
  {
   "cell_type": "code",
   "execution_count": 147,
   "metadata": {},
   "outputs": [
    {
     "data": {
      "text/plain": [
       "2730671    5\n",
       "Name: INCIDENT_DISPATCH_AREA.1, dtype: int64"
      ]
     },
     "execution_count": 147,
     "metadata": {},
     "output_type": "execute_result"
    }
   ],
   "source": [
    "data[data[\"INCIDENT_DISPATCH_AREA\"]==\"C1\"][\"INCIDENT_DISPATCH_AREA.1\"].head()"
   ]
  },
  {
   "cell_type": "code",
   "execution_count": 148,
   "metadata": {},
   "outputs": [
    {
     "data": {
      "text/plain": [
       "2730623    6\n",
       "2730624    6\n",
       "2730625    6\n",
       "2730626    6\n",
       "2730627    6\n",
       "Name: INCIDENT_DISPATCH_AREA.1, dtype: int64"
      ]
     },
     "execution_count": 148,
     "metadata": {},
     "output_type": "execute_result"
    }
   ],
   "source": [
    "data[data[\"INCIDENT_DISPATCH_AREA\"]==\"CW\"][\"INCIDENT_DISPATCH_AREA.1\"].head()"
   ]
  },
  {
   "cell_type": "code",
   "execution_count": 149,
   "metadata": {},
   "outputs": [
    {
     "data": {
      "text/plain": [
       "295298    7\n",
       "295299    7\n",
       "295300    7\n",
       "295301    7\n",
       "295302    7\n",
       "Name: INCIDENT_DISPATCH_AREA.1, dtype: int64"
      ]
     },
     "execution_count": 149,
     "metadata": {},
     "output_type": "execute_result"
    }
   ],
   "source": [
    "data[data[\"INCIDENT_DISPATCH_AREA\"]==\"K1\"][\"INCIDENT_DISPATCH_AREA.1\"].head()"
   ]
  },
  {
   "cell_type": "code",
   "execution_count": 150,
   "metadata": {},
   "outputs": [
    {
     "data": {
      "text/plain": [
       "1911943    8\n",
       "1911944    8\n",
       "1911945    8\n",
       "1911946    8\n",
       "1911947    8\n",
       "Name: INCIDENT_DISPATCH_AREA.1, dtype: int64"
      ]
     },
     "execution_count": 150,
     "metadata": {},
     "output_type": "execute_result"
    }
   ],
   "source": [
    "data[data[\"INCIDENT_DISPATCH_AREA\"]==\"K2\"][\"INCIDENT_DISPATCH_AREA.1\"].head()"
   ]
  },
  {
   "cell_type": "code",
   "execution_count": 151,
   "metadata": {},
   "outputs": [
    {
     "data": {
      "text/plain": [
       "1748621    9\n",
       "1748622    9\n",
       "1748623    9\n",
       "1748624    9\n",
       "1748625    9\n",
       "Name: INCIDENT_DISPATCH_AREA.1, dtype: int64"
      ]
     },
     "execution_count": 151,
     "metadata": {},
     "output_type": "execute_result"
    }
   ],
   "source": [
    "data[data[\"INCIDENT_DISPATCH_AREA\"]==\"K3\"][\"INCIDENT_DISPATCH_AREA.1\"].head()"
   ]
  },
  {
   "cell_type": "code",
   "execution_count": 152,
   "metadata": {},
   "outputs": [
    {
     "data": {
      "text/plain": [
       "540560    10\n",
       "540561    10\n",
       "540562    10\n",
       "540563    10\n",
       "540564    10\n",
       "Name: INCIDENT_DISPATCH_AREA.1, dtype: int64"
      ]
     },
     "execution_count": 152,
     "metadata": {},
     "output_type": "execute_result"
    }
   ],
   "source": [
    "data[data[\"INCIDENT_DISPATCH_AREA\"]==\"K4\"][\"INCIDENT_DISPATCH_AREA.1\"].head()"
   ]
  },
  {
   "cell_type": "code",
   "execution_count": 153,
   "metadata": {},
   "outputs": [
    {
     "data": {
      "text/plain": [
       "1122977    11\n",
       "1122978    11\n",
       "1122979    11\n",
       "1122980    11\n",
       "1122981    11\n",
       "Name: INCIDENT_DISPATCH_AREA.1, dtype: int64"
      ]
     },
     "execution_count": 153,
     "metadata": {},
     "output_type": "execute_result"
    }
   ],
   "source": [
    "data[data[\"INCIDENT_DISPATCH_AREA\"]==\"K5\"][\"INCIDENT_DISPATCH_AREA.1\"].head()"
   ]
  },
  {
   "cell_type": "code",
   "execution_count": 155,
   "metadata": {},
   "outputs": [
    {
     "data": {
      "text/plain": [
       "0    12\n",
       "1    12\n",
       "2    12\n",
       "3    12\n",
       "4    12\n",
       "Name: INCIDENT_DISPATCH_AREA.1, dtype: int64"
      ]
     },
     "execution_count": 155,
     "metadata": {},
     "output_type": "execute_result"
    }
   ],
   "source": [
    "data[data[\"INCIDENT_DISPATCH_AREA\"]==\"K6\"][\"INCIDENT_DISPATCH_AREA.1\"].head()"
   ]
  },
  {
   "cell_type": "code",
   "execution_count": 156,
   "metadata": {},
   "outputs": [
    {
     "data": {
      "text/plain": [
       "1275938    13\n",
       "1275939    13\n",
       "1275940    13\n",
       "1275941    13\n",
       "1275942    13\n",
       "Name: INCIDENT_DISPATCH_AREA.1, dtype: int64"
      ]
     },
     "execution_count": 156,
     "metadata": {},
     "output_type": "execute_result"
    }
   ],
   "source": [
    "data[data[\"INCIDENT_DISPATCH_AREA\"]==\"K7\"][\"INCIDENT_DISPATCH_AREA.1\"].head()"
   ]
  },
  {
   "cell_type": "code",
   "execution_count": 157,
   "metadata": {},
   "outputs": [
    {
     "data": {
      "text/plain": [
       "1195468    14\n",
       "1195469    14\n",
       "1195470    14\n",
       "1195471    14\n",
       "1195472    14\n",
       "Name: INCIDENT_DISPATCH_AREA.1, dtype: int64"
      ]
     },
     "execution_count": 157,
     "metadata": {},
     "output_type": "execute_result"
    }
   ],
   "source": [
    "data[data[\"INCIDENT_DISPATCH_AREA\"]==\"M1\"][\"INCIDENT_DISPATCH_AREA.1\"].head()"
   ]
  },
  {
   "cell_type": "code",
   "execution_count": 158,
   "metadata": {},
   "outputs": [
    {
     "data": {
      "text/plain": [
       "2099202    15\n",
       "2099203    15\n",
       "2099204    15\n",
       "2099205    15\n",
       "2099206    15\n",
       "Name: INCIDENT_DISPATCH_AREA.1, dtype: int64"
      ]
     },
     "execution_count": 158,
     "metadata": {},
     "output_type": "execute_result"
    }
   ],
   "source": [
    "data[data[\"INCIDENT_DISPATCH_AREA\"]==\"M2\"][\"INCIDENT_DISPATCH_AREA.1\"].head()"
   ]
  },
  {
   "cell_type": "code",
   "execution_count": 159,
   "metadata": {},
   "outputs": [
    {
     "data": {
      "text/plain": [
       "411937    16\n",
       "411938    16\n",
       "411939    16\n",
       "411940    16\n",
       "411941    16\n",
       "Name: INCIDENT_DISPATCH_AREA.1, dtype: int64"
      ]
     },
     "execution_count": 159,
     "metadata": {},
     "output_type": "execute_result"
    }
   ],
   "source": [
    "data[data[\"INCIDENT_DISPATCH_AREA\"]==\"M3\"][\"INCIDENT_DISPATCH_AREA.1\"].head()"
   ]
  },
  {
   "cell_type": "code",
   "execution_count": 160,
   "metadata": {},
   "outputs": [
    {
     "data": {
      "text/plain": [
       "2045719    17\n",
       "2045720    17\n",
       "2045721    17\n",
       "2045722    17\n",
       "2045723    17\n",
       "Name: INCIDENT_DISPATCH_AREA.1, dtype: int64"
      ]
     },
     "execution_count": 160,
     "metadata": {},
     "output_type": "execute_result"
    }
   ],
   "source": [
    "data[data[\"INCIDENT_DISPATCH_AREA\"]==\"M4\"][\"INCIDENT_DISPATCH_AREA.1\"].head()"
   ]
  },
  {
   "cell_type": "code",
   "execution_count": 161,
   "metadata": {},
   "outputs": [
    {
     "data": {
      "text/plain": [
       "2225247    18\n",
       "2225248    18\n",
       "2225249    18\n",
       "2225250    18\n",
       "2225251    18\n",
       "Name: INCIDENT_DISPATCH_AREA.1, dtype: int64"
      ]
     },
     "execution_count": 161,
     "metadata": {},
     "output_type": "execute_result"
    }
   ],
   "source": [
    "data[data[\"INCIDENT_DISPATCH_AREA\"]==\"M5\"][\"INCIDENT_DISPATCH_AREA.1\"].head()"
   ]
  },
  {
   "cell_type": "code",
   "execution_count": 162,
   "metadata": {},
   "outputs": [
    {
     "data": {
      "text/plain": [
       "2664746    19\n",
       "2664747    19\n",
       "2664748    19\n",
       "2664749    19\n",
       "2664750    19\n",
       "Name: INCIDENT_DISPATCH_AREA.1, dtype: int64"
      ]
     },
     "execution_count": 162,
     "metadata": {},
     "output_type": "execute_result"
    }
   ],
   "source": [
    "data[data[\"INCIDENT_DISPATCH_AREA\"]==\"M6\"][\"INCIDENT_DISPATCH_AREA.1\"].head()"
   ]
  },
  {
   "cell_type": "code",
   "execution_count": 163,
   "metadata": {},
   "outputs": [
    {
     "data": {
      "text/plain": [
       "2296019    20\n",
       "2296020    20\n",
       "2296021    20\n",
       "2296022    20\n",
       "2296023    20\n",
       "Name: INCIDENT_DISPATCH_AREA.1, dtype: int64"
      ]
     },
     "execution_count": 163,
     "metadata": {},
     "output_type": "execute_result"
    }
   ],
   "source": [
    "data[data[\"INCIDENT_DISPATCH_AREA\"]==\"M7\"][\"INCIDENT_DISPATCH_AREA.1\"].head()"
   ]
  },
  {
   "cell_type": "code",
   "execution_count": 164,
   "metadata": {},
   "outputs": [
    {
     "data": {
      "text/plain": [
       "2008894    21\n",
       "2008895    21\n",
       "2008896    21\n",
       "2008897    21\n",
       "2008898    21\n",
       "Name: INCIDENT_DISPATCH_AREA.1, dtype: int64"
      ]
     },
     "execution_count": 164,
     "metadata": {},
     "output_type": "execute_result"
    }
   ],
   "source": [
    "data[data[\"INCIDENT_DISPATCH_AREA\"]==\"M8\"][\"INCIDENT_DISPATCH_AREA.1\"].head()"
   ]
  },
  {
   "cell_type": "code",
   "execution_count": 165,
   "metadata": {},
   "outputs": [
    {
     "data": {
      "text/plain": [
       "2439000    22\n",
       "2439001    22\n",
       "2439002    22\n",
       "2439003    22\n",
       "2439004    22\n",
       "Name: INCIDENT_DISPATCH_AREA.1, dtype: int64"
      ]
     },
     "execution_count": 165,
     "metadata": {},
     "output_type": "execute_result"
    }
   ],
   "source": [
    "data[data[\"INCIDENT_DISPATCH_AREA\"]==\"M9\"][\"INCIDENT_DISPATCH_AREA.1\"].head()"
   ]
  },
  {
   "cell_type": "code",
   "execution_count": 166,
   "metadata": {},
   "outputs": [
    {
     "data": {
      "text/plain": [
       "890256    23\n",
       "890257    23\n",
       "890258    23\n",
       "890259    23\n",
       "890260    23\n",
       "Name: INCIDENT_DISPATCH_AREA.1, dtype: int64"
      ]
     },
     "execution_count": 166,
     "metadata": {},
     "output_type": "execute_result"
    }
   ],
   "source": [
    "data[data[\"INCIDENT_DISPATCH_AREA\"]==\"Q1\"][\"INCIDENT_DISPATCH_AREA.1\"].head()"
   ]
  },
  {
   "cell_type": "code",
   "execution_count": 167,
   "metadata": {},
   "outputs": [
    {
     "data": {
      "text/plain": [
       "1444829    24\n",
       "1444830    24\n",
       "1444831    24\n",
       "1444832    24\n",
       "1444833    24\n",
       "Name: INCIDENT_DISPATCH_AREA.1, dtype: int64"
      ]
     },
     "execution_count": 167,
     "metadata": {},
     "output_type": "execute_result"
    }
   ],
   "source": [
    "data[data[\"INCIDENT_DISPATCH_AREA\"]==\"Q2\"][\"INCIDENT_DISPATCH_AREA.1\"].head()"
   ]
  },
  {
   "cell_type": "code",
   "execution_count": 168,
   "metadata": {},
   "outputs": [
    {
     "data": {
      "text/plain": [
       "91516    25\n",
       "91517    25\n",
       "91518    25\n",
       "91519    25\n",
       "91520    25\n",
       "Name: INCIDENT_DISPATCH_AREA.1, dtype: int64"
      ]
     },
     "execution_count": 168,
     "metadata": {},
     "output_type": "execute_result"
    }
   ],
   "source": [
    "data[data[\"INCIDENT_DISPATCH_AREA\"]==\"Q3\"][\"INCIDENT_DISPATCH_AREA.1\"].head()"
   ]
  },
  {
   "cell_type": "code",
   "execution_count": 169,
   "metadata": {},
   "outputs": [
    {
     "data": {
      "text/plain": [
       "2613417    26\n",
       "2613418    26\n",
       "2613419    26\n",
       "2613420    26\n",
       "2613421    26\n",
       "Name: INCIDENT_DISPATCH_AREA.1, dtype: int64"
      ]
     },
     "execution_count": 169,
     "metadata": {},
     "output_type": "execute_result"
    }
   ],
   "source": [
    "data[data[\"INCIDENT_DISPATCH_AREA\"]==\"Q4\"][\"INCIDENT_DISPATCH_AREA.1\"].head()"
   ]
  },
  {
   "cell_type": "code",
   "execution_count": 170,
   "metadata": {},
   "outputs": [
    {
     "data": {
      "text/plain": [
       "732249    27\n",
       "732250    27\n",
       "732251    27\n",
       "732252    27\n",
       "732253    27\n",
       "Name: INCIDENT_DISPATCH_AREA.1, dtype: int64"
      ]
     },
     "execution_count": 170,
     "metadata": {},
     "output_type": "execute_result"
    }
   ],
   "source": [
    "data[data[\"INCIDENT_DISPATCH_AREA\"]==\"Q5\"][\"INCIDENT_DISPATCH_AREA.1\"].head()"
   ]
  },
  {
   "cell_type": "code",
   "execution_count": 171,
   "metadata": {},
   "outputs": [
    {
     "data": {
      "text/plain": [
       "151708    28\n",
       "151709    28\n",
       "151710    28\n",
       "151711    28\n",
       "151712    28\n",
       "Name: INCIDENT_DISPATCH_AREA.1, dtype: int64"
      ]
     },
     "execution_count": 171,
     "metadata": {},
     "output_type": "execute_result"
    }
   ],
   "source": [
    "data[data[\"INCIDENT_DISPATCH_AREA\"]==\"Q6\"][\"INCIDENT_DISPATCH_AREA.1\"].head()"
   ]
  },
  {
   "cell_type": "code",
   "execution_count": 172,
   "metadata": {},
   "outputs": [
    {
     "data": {
      "text/plain": [
       "2377976    29\n",
       "2377977    29\n",
       "2377978    29\n",
       "2377979    29\n",
       "2377980    29\n",
       "Name: INCIDENT_DISPATCH_AREA.1, dtype: int64"
      ]
     },
     "execution_count": 172,
     "metadata": {},
     "output_type": "execute_result"
    }
   ],
   "source": [
    "data[data[\"INCIDENT_DISPATCH_AREA\"]==\"Q7\"][\"INCIDENT_DISPATCH_AREA.1\"].head()"
   ]
  },
  {
   "cell_type": "code",
   "execution_count": 173,
   "metadata": {},
   "outputs": [
    {
     "data": {
      "text/plain": [
       "1387229    30\n",
       "1387230    30\n",
       "1387231    30\n",
       "1387232    30\n",
       "1387233    30\n",
       "Name: INCIDENT_DISPATCH_AREA.1, dtype: int64"
      ]
     },
     "execution_count": 173,
     "metadata": {},
     "output_type": "execute_result"
    }
   ],
   "source": [
    "data[data[\"INCIDENT_DISPATCH_AREA\"]==\"S1\"][\"INCIDENT_DISPATCH_AREA.1\"].head()"
   ]
  },
  {
   "cell_type": "code",
   "execution_count": 174,
   "metadata": {},
   "outputs": [
    {
     "data": {
      "text/plain": [
       "2687661    31\n",
       "2687662    31\n",
       "2687663    31\n",
       "2687664    31\n",
       "2687665    31\n",
       "Name: INCIDENT_DISPATCH_AREA.1, dtype: int64"
      ]
     },
     "execution_count": 174,
     "metadata": {},
     "output_type": "execute_result"
    }
   ],
   "source": [
    "data[data[\"INCIDENT_DISPATCH_AREA\"]==\"S2\"][\"INCIDENT_DISPATCH_AREA.1\"].head()"
   ]
  },
  {
   "cell_type": "code",
   "execution_count": 175,
   "metadata": {},
   "outputs": [
    {
     "data": {
      "text/plain": [
       "2599226    32\n",
       "2599227    32\n",
       "2599228    32\n",
       "2599229    32\n",
       "2599230    32\n",
       "Name: INCIDENT_DISPATCH_AREA.1, dtype: int64"
      ]
     },
     "execution_count": 175,
     "metadata": {},
     "output_type": "execute_result"
    }
   ],
   "source": [
    "data[data[\"INCIDENT_DISPATCH_AREA\"]==\"S3\"][\"INCIDENT_DISPATCH_AREA.1\"].head()"
   ]
  },
  {
   "cell_type": "code",
   "execution_count": 176,
   "metadata": {},
   "outputs": [
    {
     "data": {
      "text/plain": [
       "2730403    33\n",
       "2730404    33\n",
       "2730405    33\n",
       "2730406    33\n",
       "2730407    33\n",
       "Name: INCIDENT_DISPATCH_AREA.1, dtype: int64"
      ]
     },
     "execution_count": 176,
     "metadata": {},
     "output_type": "execute_result"
    }
   ],
   "source": [
    "data[data[\"INCIDENT_DISPATCH_AREA\"]==\"X1\"][\"INCIDENT_DISPATCH_AREA.1\"].head()"
   ]
  },
  {
   "cell_type": "code",
   "execution_count": 177,
   "metadata": {},
   "outputs": [
    {
     "data": {
      "text/plain": [
       "2730664    34\n",
       "2730665    34\n",
       "2730666    34\n",
       "2730667    34\n",
       "2730668    34\n",
       "Name: INCIDENT_DISPATCH_AREA.1, dtype: int64"
      ]
     },
     "execution_count": 177,
     "metadata": {},
     "output_type": "execute_result"
    }
   ],
   "source": [
    "data[data[\"INCIDENT_DISPATCH_AREA\"]==\"X2\"][\"INCIDENT_DISPATCH_AREA.1\"].head()"
   ]
  },
  {
   "cell_type": "markdown",
   "metadata": {},
   "source": [
    "### "
   ]
  },
  {
   "cell_type": "code",
   "execution_count": null,
   "metadata": {},
   "outputs": [],
   "source": []
  },
  {
   "cell_type": "code",
   "execution_count": null,
   "metadata": {},
   "outputs": [],
   "source": []
  },
  {
   "cell_type": "code",
   "execution_count": null,
   "metadata": {},
   "outputs": [],
   "source": []
  }
 ],
 "metadata": {
  "kernelspec": {
   "display_name": "Python 3",
   "language": "python",
   "name": "python3"
  },
  "language_info": {
   "codemirror_mode": {
    "name": "ipython",
    "version": 3
   },
   "file_extension": ".py",
   "mimetype": "text/x-python",
   "name": "python",
   "nbconvert_exporter": "python",
   "pygments_lexer": "ipython3",
   "version": "3.7.3"
  }
 },
 "nbformat": 4,
 "nbformat_minor": 2
}
